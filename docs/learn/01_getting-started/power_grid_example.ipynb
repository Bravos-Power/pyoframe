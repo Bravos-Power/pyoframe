{
 "cells": [
  {
   "cell_type": "markdown",
   "id": "4dbebe11-66aa-40f9-a737-f3c7bec2f995",
   "metadata": {},
   "source": [
    "# Unit commitment for a simple power grid\n",
    "This example shows how pyoframe is used to define and solve an optimization problem, comparing step-by-step with [gurobipy](https://www.gurobi.com/documentation/current/refman/py_python_api_overview.html). The problem is a highly simplified version of the unit commitment problem that is solved daily in a large number of electrical markets around the world."
   ]
  },
  {
   "cell_type": "markdown",
   "id": "03a1f576-9f02-401c-a19e-3e54eaf8f8ee",
   "metadata": {},
   "source": [
    "<img src=\"./three-bus.png\" alt=\"Three-bus grid\" width=\"500\">"
   ]
  },
  {
   "cell_type": "markdown",
   "id": "4978ca1d-36c9-410f-ba8d-8d158ef9b375",
   "metadata": {},
   "source": [
    "### Problem Setup\n",
    "\n",
    "**Objective**: Minimize the total cost of electricity generation.  \n",
    "**Constraints**: Meet demand at each bus, respect generation limits, handle binary on/off status of each generator, and account for transmission limits between buses."
   ]
  },
  {
   "cell_type": "markdown",
   "id": "3ff70ca9-7faa-4c8a-9b3a-ca0809e3d9d5",
   "metadata": {},
   "source": [
    "## Implementation"
   ]
  },
  {
   "cell_type": "code",
   "execution_count": 17,
   "id": "f49d45de-3a5b-4fe7-a2c9-d8a40a649996",
   "metadata": {},
   "outputs": [
    {
     "name": "stdout",
     "output_type": "stream",
     "text": [
      "Requirement already satisfied: pyoframe in c:\\users\\staadeck\\software\\pyoframe\\.venv\\lib\\site-packages (0.1.5)Note: you may need to restart the kernel to use updated packages.\n"
     ]
    },
    {
     "name": "stderr",
     "output_type": "stream",
     "text": [
      "\n",
      "[notice] A new release of pip is available: 25.0.1 -> 25.1.1\n",
      "[notice] To update, run: python.exe -m pip install --upgrade pip\n"
     ]
    },
    {
     "name": "stdout",
     "output_type": "stream",
     "text": [
      "\n",
      "Requirement already satisfied: gurobipy in c:\\users\\staadeck\\software\\pyoframe\\.venv\\lib\\site-packages (12.0.1)\n",
      "Requirement already satisfied: pandas in c:\\users\\staadeck\\software\\pyoframe\\.venv\\lib\\site-packages (2.2.3)\n",
      "Requirement already satisfied: polars<2,>=0.20 in c:\\users\\staadeck\\software\\pyoframe\\.venv\\lib\\site-packages (from pyoframe) (1.22.0)\n",
      "Requirement already satisfied: numpy in c:\\users\\staadeck\\software\\pyoframe\\.venv\\lib\\site-packages (from pyoframe) (1.26.4)\n",
      "Requirement already satisfied: pyarrow in c:\\users\\staadeck\\software\\pyoframe\\.venv\\lib\\site-packages (from pyoframe) (19.0.0)\n",
      "Requirement already satisfied: packaging in c:\\users\\staadeck\\software\\pyoframe\\.venv\\lib\\site-packages (from pyoframe) (24.2)\n",
      "Requirement already satisfied: pyoptinterface<1,>=0.4.1 in c:\\users\\staadeck\\software\\pyoframe\\.venv\\lib\\site-packages (from pyoframe) (0.4.1)\n",
      "Requirement already satisfied: python-dateutil>=2.8.2 in c:\\users\\staadeck\\software\\pyoframe\\.venv\\lib\\site-packages (from pandas) (2.9.0.post0)\n",
      "Requirement already satisfied: pytz>=2020.1 in c:\\users\\staadeck\\software\\pyoframe\\.venv\\lib\\site-packages (from pandas) (2025.1)\n",
      "Requirement already satisfied: tzdata>=2022.7 in c:\\users\\staadeck\\software\\pyoframe\\.venv\\lib\\site-packages (from pandas) (2025.1)\n",
      "Requirement already satisfied: six>=1.5 in c:\\users\\staadeck\\software\\pyoframe\\.venv\\lib\\site-packages (from python-dateutil>=2.8.2->pandas) (1.17.0)\n"
     ]
    }
   ],
   "source": [
    "%pip install pyoframe gurobipy pandas"
   ]
  },
  {
   "cell_type": "code",
   "execution_count": 18,
   "id": "eec4b6d2-4d0c-43f8-8b5e-34f56c1602dc",
   "metadata": {},
   "outputs": [],
   "source": [
    "import gurobipy as gp\n",
    "import pandas as pd\n",
    "import polars as pl\n",
    "from gurobipy import GRB\n",
    "\n",
    "import pyoframe as pf"
   ]
  },
  {
   "cell_type": "markdown",
   "id": "481c5be0-3c83-4f41-8831-f0751d4634a7",
   "metadata": {},
   "source": [
    "### Input data"
   ]
  },
  {
   "cell_type": "markdown",
   "id": "8442c969-26f1-4ff5-94e1-fd7df6a52052",
   "metadata": {},
   "source": [
    "### Parameters\n",
    "\n",
    "**Costs**\n",
    "- $c_g(\\text{gen})$: Cost of generation per unit of power from generator $\\text{gen}$ (\\$/MW).\n",
    "- $c_{su}(\\text{gen})$: Cost of starting up generator $\\text{gen}$ (\\$).\n",
    "\n",
    "**Technical Limits**\n",
    "- $\\text{min}P_g$, $\\text{max}P_g$: Minimum and maximum power output of generator $\\text{gen}$ (MW).\n",
    "- $D_{n,t}$: Demand at bus $n$ at time $t$ (MW).\n",
    "\n",
    "**Transmission Parameters**\n",
    "- $\\text{max}P_l$: Maximum capacity of transmission line $l$ (MW).\n",
    "- $B_l = B_{jk}$: Susceptance of line $l$ between bus $j$ and bus $k$.\n",
    "- $A_{jk}$: Entry of incidence matrix $A$ (takes values $1$ or $-1$ depending on the direction of the flow between bus $j$ and bus $k$ for line $l$).\n",
    "\n",
    "**Initial State**\n",
    "- $I(\\text{gen},0)$: Generator $\\text{gen}$ is initially on or off."
   ]
  },
  {
   "cell_type": "code",
   "execution_count": 19,
   "id": "d75c58d4-cd79-4de7-a26c-6c0b1fb46574",
   "metadata": {},
   "outputs": [
    {
     "data": {
      "application/vnd.microsoft.datawrangler.viewer.v0+json": {
       "columns": [
        {
         "name": "index",
         "rawType": "int64",
         "type": "integer"
        },
        {
         "name": "gen",
         "rawType": "int64",
         "type": "integer"
        },
        {
         "name": "bus",
         "rawType": "int64",
         "type": "integer"
        },
        {
         "name": "I_init",
         "rawType": "int64",
         "type": "integer"
        },
        {
         "name": "min_power",
         "rawType": "int64",
         "type": "integer"
        },
        {
         "name": "max_power",
         "rawType": "int64",
         "type": "integer"
        },
        {
         "name": "cost",
         "rawType": "int64",
         "type": "integer"
        },
        {
         "name": "start_up_cost",
         "rawType": "int64",
         "type": "integer"
        }
       ],
       "conversionMethod": "pd.DataFrame",
       "ref": "ee9c57c8-91bb-4c8c-9f5e-14f8ba5793fa",
       "rows": [
        [
         "0",
         "1",
         "1",
         "1",
         "50",
         "150",
         "25",
         "200"
        ],
        [
         "1",
         "2",
         "2",
         "0",
         "30",
         "100",
         "30",
         "150"
        ],
        [
         "2",
         "3",
         "3",
         "0",
         "20",
         "80",
         "50",
         "100"
        ]
       ],
       "shape": {
        "columns": 7,
        "rows": 3
       }
      },
      "text/html": [
       "<div>\n",
       "<style scoped>\n",
       "    .dataframe tbody tr th:only-of-type {\n",
       "        vertical-align: middle;\n",
       "    }\n",
       "\n",
       "    .dataframe tbody tr th {\n",
       "        vertical-align: top;\n",
       "    }\n",
       "\n",
       "    .dataframe thead th {\n",
       "        text-align: right;\n",
       "    }\n",
       "</style>\n",
       "<table border=\"1\" class=\"dataframe\">\n",
       "  <thead>\n",
       "    <tr style=\"text-align: right;\">\n",
       "      <th></th>\n",
       "      <th>gen</th>\n",
       "      <th>bus</th>\n",
       "      <th>I_init</th>\n",
       "      <th>min_power</th>\n",
       "      <th>max_power</th>\n",
       "      <th>cost</th>\n",
       "      <th>start_up_cost</th>\n",
       "    </tr>\n",
       "  </thead>\n",
       "  <tbody>\n",
       "    <tr>\n",
       "      <th>0</th>\n",
       "      <td>1</td>\n",
       "      <td>1</td>\n",
       "      <td>1</td>\n",
       "      <td>50</td>\n",
       "      <td>150</td>\n",
       "      <td>25</td>\n",
       "      <td>200</td>\n",
       "    </tr>\n",
       "    <tr>\n",
       "      <th>1</th>\n",
       "      <td>2</td>\n",
       "      <td>2</td>\n",
       "      <td>0</td>\n",
       "      <td>30</td>\n",
       "      <td>100</td>\n",
       "      <td>30</td>\n",
       "      <td>150</td>\n",
       "    </tr>\n",
       "    <tr>\n",
       "      <th>2</th>\n",
       "      <td>3</td>\n",
       "      <td>3</td>\n",
       "      <td>0</td>\n",
       "      <td>20</td>\n",
       "      <td>80</td>\n",
       "      <td>50</td>\n",
       "      <td>100</td>\n",
       "    </tr>\n",
       "  </tbody>\n",
       "</table>\n",
       "</div>"
      ],
      "text/plain": [
       "   gen  bus  I_init  min_power  max_power  cost  start_up_cost\n",
       "0    1    1       1         50        150    25            200\n",
       "1    2    2       0         30        100    30            150\n",
       "2    3    3       0         20         80    50            100"
      ]
     },
     "execution_count": 19,
     "metadata": {},
     "output_type": "execute_result"
    }
   ],
   "source": [
    "generators = pl.DataFrame(\n",
    "    [\n",
    "        {\n",
    "            \"gen\": 1,\n",
    "            \"bus\": 1,\n",
    "            \"I_init\": 1,\n",
    "            \"min_power\": 50,\n",
    "            \"max_power\": 150,\n",
    "            \"cost\": 25,\n",
    "            \"start_up_cost\": 200,\n",
    "        },\n",
    "        {\n",
    "            \"gen\": 2,\n",
    "            \"bus\": 2,\n",
    "            \"I_init\": 0,\n",
    "            \"min_power\": 30,\n",
    "            \"max_power\": 100,\n",
    "            \"cost\": 30,\n",
    "            \"start_up_cost\": 150,\n",
    "        },\n",
    "        {\n",
    "            \"gen\": 3,\n",
    "            \"bus\": 3,\n",
    "            \"I_init\": 0,\n",
    "            \"min_power\": 20,\n",
    "            \"max_power\": 80,\n",
    "            \"cost\": 50,\n",
    "            \"start_up_cost\": 100,\n",
    "        },\n",
    "    ]\n",
    ")\n",
    "\n",
    "transmission_lines = pl.DataFrame(\n",
    "    [\n",
    "        {\"l\": 1, \"from\": 1, \"to\": 2, \"capacity\": 60, \"susceptance\": 20},\n",
    "        {\"l\": 2, \"from\": 2, \"to\": 3, \"capacity\": 50, \"susceptance\": 15},\n",
    "        {\"l\": 3, \"from\": 1, \"to\": 3, \"capacity\": 40, \"susceptance\": 10},\n",
    "    ]\n",
    ")\n",
    "\n",
    "load = pl.DataFrame(\n",
    "    {\n",
    "        \"t\": [1, 2, 3] * 3,\n",
    "        \"bus\": [1] * 3 + [2] * 3 + [3] * 3,\n",
    "        \"demand\": [100, 120, 30, 50, 110, 25, 40, 90, 15],\n",
    "    }\n",
    ")\n",
    "\n",
    "time_periods = load[\"t\"].unique().sort()\n",
    "busses = pd.DataFrame({\"n\": [1, 2, 3]})\n",
    "generators.to_pandas()"
   ]
  },
  {
   "cell_type": "code",
   "execution_count": 20,
   "id": "4ce9fbc7-f773-477c-9cf4-1ff6394d1d6e",
   "metadata": {},
   "outputs": [
    {
     "data": {
      "application/vnd.microsoft.datawrangler.viewer.v0+json": {
       "columns": [
        {
         "name": "index",
         "rawType": "int64",
         "type": "integer"
        },
        {
         "name": "t",
         "rawType": "int64",
         "type": "integer"
        },
        {
         "name": "bus",
         "rawType": "int64",
         "type": "integer"
        },
        {
         "name": "demand",
         "rawType": "int64",
         "type": "integer"
        }
       ],
       "conversionMethod": "pd.DataFrame",
       "ref": "2f757f9f-89f1-4a8f-a120-5f3a2b43c1b2",
       "rows": [
        [
         "0",
         "1",
         "1",
         "100"
        ],
        [
         "1",
         "1",
         "2",
         "50"
        ],
        [
         "2",
         "1",
         "3",
         "40"
        ],
        [
         "3",
         "2",
         "1",
         "120"
        ],
        [
         "4",
         "2",
         "2",
         "110"
        ],
        [
         "5",
         "2",
         "3",
         "90"
        ],
        [
         "6",
         "3",
         "1",
         "30"
        ],
        [
         "7",
         "3",
         "2",
         "25"
        ],
        [
         "8",
         "3",
         "3",
         "15"
        ]
       ],
       "shape": {
        "columns": 3,
        "rows": 9
       }
      },
      "text/html": [
       "<div>\n",
       "<style scoped>\n",
       "    .dataframe tbody tr th:only-of-type {\n",
       "        vertical-align: middle;\n",
       "    }\n",
       "\n",
       "    .dataframe tbody tr th {\n",
       "        vertical-align: top;\n",
       "    }\n",
       "\n",
       "    .dataframe thead th {\n",
       "        text-align: right;\n",
       "    }\n",
       "</style>\n",
       "<table border=\"1\" class=\"dataframe\">\n",
       "  <thead>\n",
       "    <tr style=\"text-align: right;\">\n",
       "      <th></th>\n",
       "      <th>t</th>\n",
       "      <th>bus</th>\n",
       "      <th>demand</th>\n",
       "    </tr>\n",
       "  </thead>\n",
       "  <tbody>\n",
       "    <tr>\n",
       "      <th>0</th>\n",
       "      <td>1</td>\n",
       "      <td>1</td>\n",
       "      <td>100</td>\n",
       "    </tr>\n",
       "    <tr>\n",
       "      <th>1</th>\n",
       "      <td>1</td>\n",
       "      <td>2</td>\n",
       "      <td>50</td>\n",
       "    </tr>\n",
       "    <tr>\n",
       "      <th>2</th>\n",
       "      <td>1</td>\n",
       "      <td>3</td>\n",
       "      <td>40</td>\n",
       "    </tr>\n",
       "    <tr>\n",
       "      <th>3</th>\n",
       "      <td>2</td>\n",
       "      <td>1</td>\n",
       "      <td>120</td>\n",
       "    </tr>\n",
       "    <tr>\n",
       "      <th>4</th>\n",
       "      <td>2</td>\n",
       "      <td>2</td>\n",
       "      <td>110</td>\n",
       "    </tr>\n",
       "    <tr>\n",
       "      <th>5</th>\n",
       "      <td>2</td>\n",
       "      <td>3</td>\n",
       "      <td>90</td>\n",
       "    </tr>\n",
       "    <tr>\n",
       "      <th>6</th>\n",
       "      <td>3</td>\n",
       "      <td>1</td>\n",
       "      <td>30</td>\n",
       "    </tr>\n",
       "    <tr>\n",
       "      <th>7</th>\n",
       "      <td>3</td>\n",
       "      <td>2</td>\n",
       "      <td>25</td>\n",
       "    </tr>\n",
       "    <tr>\n",
       "      <th>8</th>\n",
       "      <td>3</td>\n",
       "      <td>3</td>\n",
       "      <td>15</td>\n",
       "    </tr>\n",
       "  </tbody>\n",
       "</table>\n",
       "</div>"
      ],
      "text/plain": [
       "   t  bus  demand\n",
       "0  1    1     100\n",
       "1  1    2      50\n",
       "2  1    3      40\n",
       "3  2    1     120\n",
       "4  2    2     110\n",
       "5  2    3      90\n",
       "6  3    1      30\n",
       "7  3    2      25\n",
       "8  3    3      15"
      ]
     },
     "execution_count": 20,
     "metadata": {},
     "output_type": "execute_result"
    }
   ],
   "source": [
    "load.sort(\"t\").to_pandas()"
   ]
  },
  {
   "cell_type": "markdown",
   "id": "31b4e135-e7a9-4635-9390-5d9cc6b56d5f",
   "metadata": {},
   "source": [
    "### Instantiating the model"
   ]
  },
  {
   "cell_type": "markdown",
   "id": "bbab8fed-1cd4-47fa-8ddd-47a2eb8890f5",
   "metadata": {},
   "source": [
    "#### Gurobi"
   ]
  },
  {
   "cell_type": "code",
   "execution_count": 21,
   "id": "89c08bc1-1bce-4bc3-9e22-a8c3d604e154",
   "metadata": {},
   "outputs": [],
   "source": [
    "gp_model = gp.Model(\"Three-bus example\")"
   ]
  },
  {
   "cell_type": "markdown",
   "id": "e4af6574-c89a-48e9-b1a3-9f320c6914e4",
   "metadata": {},
   "source": [
    "#### PyoFrame"
   ]
  },
  {
   "cell_type": "code",
   "execution_count": 22,
   "id": "20135023-4ffa-4628-b42e-3a41eed87a26",
   "metadata": {},
   "outputs": [],
   "source": [
    "pf_model = pf.Model()"
   ]
  },
  {
   "cell_type": "markdown",
   "id": "4b6e9dcd-85b9-4d21-8187-662556642c16",
   "metadata": {},
   "source": [
    "### Defining variables"
   ]
  },
  {
   "cell_type": "markdown",
   "id": "60179612-3145-4255-af71-a0ffcbef4a4e",
   "metadata": {},
   "source": [
    "### Variables\n",
    "\n",
    "**Binary Decision Variables**\n",
    "- $I(\\text{gen},t)$: Generator $\\text{gen}$ is on ($I(\\text{gen},t) = 1$) or off ($I(\\text{gen},t) = 0$) at time $t$.\n",
    "- $SU(\\text{gen},t)$: Generator $\\text{gen}$ starts up ($SU(\\text{gen},t) = 1$) at time $t$.\n",
    "- $SD(\\text{gen},t)$: Generator $\\text{gen}$ shuts down ($SD(\\text{gen},t) = 1$) at time $t$.\n",
    "\n",
    "**Continuous Decision Variables**\n",
    "- $P_g(\\text{gen},t)$: Power generated by generator $\\text{gen}$ at time $t$ (MW).\n",
    "- $P_l(l,t)$: Power flow on transmission line $l$ at time $t$ (MW).\n",
    "- $\\delta_{n,t}$: Voltage angle at bus $n$ at time $t$ (centi-radians)."
   ]
  },
  {
   "cell_type": "markdown",
   "id": "408d4b5a-e3b6-4d1a-a4d0-76503e4a36d5",
   "metadata": {},
   "source": [
    "#### Gurobi"
   ]
  },
  {
   "cell_type": "code",
   "execution_count": null,
   "id": "f82a97ef-24e9-449a-befa-157d9b051b85",
   "metadata": {},
   "outputs": [],
   "source": [
    "I = gp_model.addVars(generators[\"gen\"], time_periods, vtype=GRB.BINARY, name=\"I\")  # noqa: E741\n",
    "SU = gp_model.addVars(generators[\"gen\"], time_periods, vtype=GRB.BINARY, name=\"SU\")\n",
    "SD = gp_model.addVars(generators[\"gen\"], time_periods, vtype=GRB.BINARY, name=\"SD\")\n",
    "P_g = gp_model.addVars(\n",
    "    generators[\"gen\"], time_periods, vtype=GRB.CONTINUOUS, name=\"P_g\"\n",
    ")\n",
    "P_l = gp_model.addVars(\n",
    "    transmission_lines[\"l\"],\n",
    "    time_periods,\n",
    "    lb=-float(\"inf\"),\n",
    "    vtype=GRB.CONTINUOUS,\n",
    "    name=\"P_l\",\n",
    ")\n",
    "delta_n = gp_model.addVars(\n",
    "    busses[\"n\"], time_periods, vtype=GRB.CONTINUOUS, lb=-float(\"inf\"), name=\"delta_n\"\n",
    ")"
   ]
  },
  {
   "cell_type": "markdown",
   "id": "14668d56-6236-4f95-8251-8af970a42b67",
   "metadata": {},
   "source": [
    "#### PyoFrame"
   ]
  },
  {
   "cell_type": "code",
   "execution_count": 24,
   "id": "93581170-8493-47c0-8a5e-fb3af0bf1973",
   "metadata": {},
   "outputs": [],
   "source": [
    "pf_model.I = pf.Variable(generators[\"gen\"], time_periods, vtype=pf.VType.BINARY)\n",
    "pf_model.SU = pf.Variable(generators[\"gen\"], time_periods, vtype=pf.VType.BINARY)\n",
    "pf_model.SD = pf.Variable(generators[\"gen\"], time_periods, vtype=pf.VType.BINARY)\n",
    "pf_model.P_g = pf.Variable(generators[\"gen\"], time_periods, lb=0)\n",
    "pf_model.P_l = pf.Variable(transmission_lines[\"l\"], time_periods)\n",
    "pf_model.delta_n = pf.Variable(busses, time_periods)"
   ]
  },
  {
   "cell_type": "markdown",
   "id": "29d219ad-4b2b-49e1-80d5-e5ace94264fe",
   "metadata": {},
   "source": [
    "### Objective Function\n",
    "\n",
    "Minimize the total cost:\n",
    "\n",
    "$$\n",
    "\\min \\sum_{t} \\left(\\sum_{\\text{gen}} \\left( c_g(\\text{gen}) P_g(\\text{gen},t) + c_{su}(\\text{gen}) SU(\\text{gen},t) \\right) \\right)\n",
    "$$"
   ]
  },
  {
   "cell_type": "markdown",
   "id": "162f3f21-d190-4b02-8b2a-055b5c891953",
   "metadata": {},
   "source": [
    "#### Gurobi"
   ]
  },
  {
   "cell_type": "code",
   "execution_count": 25,
   "id": "b93aca60-ab14-46e8-9d4c-9f62992d3070",
   "metadata": {},
   "outputs": [],
   "source": [
    "generation_cost = gp.quicksum(\n",
    "    generators.filter(gen=i)[\"cost\"].item() * P_g[i, t]\n",
    "    for i in generators[\"gen\"]\n",
    "    for t in time_periods\n",
    ")\n",
    "start_up_cost = gp.quicksum(\n",
    "    generators.filter(gen=i)[\"start_up_cost\"].item() * SU[i, t]\n",
    "    for i in generators[\"gen\"]\n",
    "    for t in time_periods\n",
    ")\n",
    "\n",
    "gp_model.setObjective(generation_cost + start_up_cost, GRB.MINIMIZE)"
   ]
  },
  {
   "cell_type": "markdown",
   "id": "3831b36b-e4bd-4133-8156-c3328cef191c",
   "metadata": {},
   "source": [
    "#### PyoFrame"
   ]
  },
  {
   "cell_type": "code",
   "execution_count": 26,
   "id": "143c36c0-54ff-421c-a8f5-bce5132a8adb",
   "metadata": {},
   "outputs": [],
   "source": [
    "pf_model.minimize = pf.sum(\n",
    "    [\"t\", \"gen\"], pf_model.P_g * generators.select(\"gen\", \"cost\")\n",
    ")\n",
    "pf_model.minimize += pf.sum(\n",
    "    \"t\", pf.sum(\"gen\", pf_model.SU * generators.select(\"gen\", \"start_up_cost\"))\n",
    ")"
   ]
  },
  {
   "cell_type": "code",
   "execution_count": 27,
   "id": "7954cc1e-da77-4110-ad6a-d473395cf946",
   "metadata": {},
   "outputs": [
    {
     "data": {
      "text/plain": [
       "<Objective size=1 dimensions={} terms=18>\n",
       "objective: 25 P_g[1,1] +25 P_g[1,2] +25 P_g[1,3] +30 P_g[2,1] +30 P_g[2,2] +30 P_g[2,3] +50..."
      ]
     },
     "execution_count": 27,
     "metadata": {},
     "output_type": "execute_result"
    }
   ],
   "source": [
    "pf_model.objective"
   ]
  },
  {
   "cell_type": "code",
   "execution_count": null,
   "id": "f6a0c9fd-2d36-490c-892c-fd5ce3a61533",
   "metadata": {},
   "outputs": [],
   "source": []
  },
  {
   "cell_type": "markdown",
   "id": "a8dbaceb-9e00-424c-9454-18da30e54fc9",
   "metadata": {},
   "source": [
    "## Constraints"
   ]
  },
  {
   "cell_type": "markdown",
   "id": "018785af-83ff-41e8-a912-d66851479f7b",
   "metadata": {},
   "source": [
    "### Power balance"
   ]
  },
  {
   "cell_type": "markdown",
   "id": "01ae112e-c899-4519-aff7-b3dfddc65db0",
   "metadata": {},
   "source": [
    "\n",
    "1. **Power Balance at Each Bus**  \n",
    "   For each bus $n$ and time $t$:\n",
    "\n",
    "   $$\n",
    "   \\sum_{\\text{gen} \\in G_n} P_g(\\text{gen},t) - D(n,t) = \\sum_{k} A_{nk} P_l(k,t)\n",
    "   $$\n",
    "\n",
    "   where $G_n$ is the set of generators connected to bus $n$."
   ]
  },
  {
   "cell_type": "markdown",
   "id": "73a901f4-0eb1-4fea-ab55-f6637a9e2f2e",
   "metadata": {},
   "source": [
    "#### Gurobi"
   ]
  },
  {
   "cell_type": "code",
   "execution_count": null,
   "id": "443534a5-dd69-4087-8cf1-391bf8a495b6",
   "metadata": {},
   "outputs": [],
   "source": [
    "for t in time_periods:\n",
    "    for bus in busses[\"n\"]:\n",
    "        demand = load.filter(bus=bus, t=t)[\"demand\"].item()\n",
    "        total_power_gen = gp.quicksum(\n",
    "            P_g[gen, t] for gen in generators.filter(bus=bus)[\"gen\"]\n",
    "        )\n",
    "        total_power_flow_to = gp.quicksum(\n",
    "            P_l[line, t] for line in transmission_lines.filter(to=bus)[\"l\"]\n",
    "        )\n",
    "        total_power_flow_from = gp.quicksum(\n",
    "            P_l[line, t]\n",
    "            for line in transmission_lines.filter(pl.col(\"from\").eq(bus))[\"l\"]\n",
    "        )\n",
    "\n",
    "        gp_model.addConstr(\n",
    "            total_power_gen - demand == total_power_flow_to - total_power_flow_from\n",
    "        )"
   ]
  },
  {
   "cell_type": "markdown",
   "id": "bfa39f01-b6e9-435f-bdb2-489f0b66328a",
   "metadata": {},
   "source": [
    "#### PyoFrame"
   ]
  },
  {
   "cell_type": "code",
   "execution_count": 29,
   "id": "258d4a96-a13a-4022-9421-b0b343847f03",
   "metadata": {},
   "outputs": [
    {
     "data": {
      "text/plain": [
       "<Variable name=P_l size=9 dimensions={'l': 3, 't': 3}>\n",
       "[1,1]: P_l[1,1]\n",
       "[1,2]: P_l[1,2]\n",
       "[1,3]: P_l[1,3]\n",
       "[2,1]: P_l[2,1]\n",
       "[2,2]: P_l[2,2]\n",
       "[2,3]: P_l[2,3]\n",
       "[3,1]: P_l[3,1]\n",
       "[3,2]: P_l[3,2]\n",
       "[3,3]: P_l[3,3]"
      ]
     },
     "execution_count": 29,
     "metadata": {},
     "output_type": "execute_result"
    }
   ],
   "source": [
    "pf_model.P_l"
   ]
  },
  {
   "cell_type": "code",
   "execution_count": 30,
   "id": "56dfdfe8-bc0f-40a7-82b2-2f2abaa66083",
   "metadata": {},
   "outputs": [],
   "source": [
    "# Power flow to and from each bus\n",
    "P_l_from = pf_model.P_l.map(\n",
    "    transmission_lines.select([\"l\", \"from\"]).rename({\"from\": \"bus\"})\n",
    ")\n",
    "P_l_to = pf_model.P_l.map(transmission_lines.select([\"l\", \"to\"]).rename({\"to\": \"bus\"}))\n",
    "P_gen_at_bus = pf_model.P_g.map(generators.select(\"gen\", \"bus\"))\n",
    "\n",
    "# Power Balance at Each Bus\n",
    "pf_model.PowBal = (\n",
    "    P_gen_at_bus - load == P_l_from.keep_unmatched() - P_l_to.keep_unmatched()\n",
    ")"
   ]
  },
  {
   "cell_type": "code",
   "execution_count": 31,
   "id": "43201fa0-8126-40ed-812b-a84941e162c7",
   "metadata": {},
   "outputs": [
    {
     "data": {
      "text/plain": [
       "<Constraint name=PowBal sense='=' size=9 dimensions={'t': 3, 'bus': 3} terms=36>\n",
       "[1,1]: - P_l[1,1] - P_l[3,1] + P_g[1,1] = 100\n",
       "[1,2]: - P_l[2,1] + P_l[1,1] + P_g[2,1] = 50\n",
       "[1,3]: P_l[2,1] + P_l[3,1] + P_g[3,1] = 40\n",
       "[2,1]: - P_l[1,2] - P_l[3,2] + P_g[1,2] = 120\n",
       "[2,2]: - P_l[2,2] + P_l[1,2] + P_g[2,2] = 110\n",
       "[2,3]: P_l[2,2] + P_l[3,2] + P_g[3,2] = 90\n",
       "[3,1]: - P_l[1,3] - P_l[3,3] + P_g[1,3] = 30\n",
       "[3,2]: - P_l[2,3] + P_l[1,3] + P_g[2,3] = 25\n",
       "[3,3]: P_l[2,3] + P_l[3,3] + P_g[3,3] = 15"
      ]
     },
     "execution_count": 31,
     "metadata": {},
     "output_type": "execute_result"
    }
   ],
   "source": [
    "pf_model.PowBal"
   ]
  },
  {
   "cell_type": "markdown",
   "id": "29bb8367-9112-467c-b1d4-f008813ebc0b",
   "metadata": {},
   "source": [
    "### Generation limits"
   ]
  },
  {
   "cell_type": "markdown",
   "id": "2b706f99-f1a2-4eca-90ae-6e0dc195ccd8",
   "metadata": {},
   "source": [
    "2. **Generation Limits**  \n",
    "   For each generator $\\text{gen}$ and time $t$:\n",
    "\n",
    "   $$\n",
    "   \\text{min}P_g \\cdot I(\\text{gen},t) \\leq P_g(\\text{gen},t) \\leq \\text{max}P_g \\cdot I(\\text{gen},t)\n",
    "   $$"
   ]
  },
  {
   "cell_type": "markdown",
   "id": "6bc337bc-50a5-4222-a222-b8515fb51f71",
   "metadata": {},
   "source": [
    "#### Gurobi"
   ]
  },
  {
   "cell_type": "code",
   "execution_count": 32,
   "id": "e31ac4db-7669-4a98-954c-6ee8753e5523",
   "metadata": {},
   "outputs": [],
   "source": [
    "for gen in generators[\"gen\"]:\n",
    "    for t in time_periods:\n",
    "        gp_model.addConstr(\n",
    "            P_g[gen, t] >= generators.filter(gen=gen)[\"min_power\"].item() * I[gen, t]\n",
    "        )\n",
    "        gp_model.addConstr(\n",
    "            P_g[gen, t] <= generators.filter(gen=gen)[\"max_power\"].item() * I[gen, t]\n",
    "        )"
   ]
  },
  {
   "cell_type": "markdown",
   "id": "f88a5dd8-f180-4253-a3f7-fc83b3c9781d",
   "metadata": {},
   "source": [
    "#### PyoFrame"
   ]
  },
  {
   "cell_type": "code",
   "execution_count": 33,
   "id": "0c429f98-0fa4-45ec-b6f6-f9211cd949e5",
   "metadata": {},
   "outputs": [],
   "source": [
    "pf_model.re_P_g_maxgen = (\n",
    "    pf_model.P_g <= generators.select(\"gen\", \"max_power\") * pf_model.I\n",
    ")\n",
    "pf_model.re_P_g_mingen = (\n",
    "    pf_model.P_g >= generators.select(\"gen\", \"min_power\") * pf_model.I\n",
    ")"
   ]
  },
  {
   "cell_type": "markdown",
   "id": "d8a156e9-fa17-4027-b050-8ed15ccc1ff0",
   "metadata": {},
   "source": [
    "### Generator on/off dynamics"
   ]
  },
  {
   "cell_type": "markdown",
   "id": "437f8202-17bb-447e-b4cb-6e2cab34f107",
   "metadata": {},
   "source": [
    "3. **Generator On/Off Dynamics**  \n",
    "   For each generator $\\text{gen}$ and time $t$:\n",
    "\n",
    "   $$\n",
    "   I(\\text{gen},t) = I(\\text{gen}, t-1) + SU(\\text{gen},t) - SD(\\text{gen},t)\n",
    "   $$"
   ]
  },
  {
   "cell_type": "markdown",
   "id": "f921de03-5940-4ce5-9bce-0723e5765daf",
   "metadata": {},
   "source": [
    "#### Gurobi"
   ]
  },
  {
   "cell_type": "code",
   "execution_count": 34,
   "id": "c5ef145b-6670-4a36-af64-84b2d22ec992",
   "metadata": {},
   "outputs": [],
   "source": [
    "I0 = generators.select(\"gen\", \"I_init\")\n",
    "for gen in generators[\"gen\"]:\n",
    "    gp_model.addConstr(\n",
    "        I[gen, 1] == I0.filter(gen=gen)[\"I_init\"].item() + SU[gen, 1] - SD[gen, 1]\n",
    "    )\n",
    "    for t in time_periods[1:]:\n",
    "        gp_model.addConstr(I[gen, t] == I[gen, t - 1] + SU[gen, t] - SD[gen, t])"
   ]
  },
  {
   "cell_type": "markdown",
   "id": "8dc411b2-0e8d-43a6-9d1e-f08c406158fa",
   "metadata": {},
   "source": [
    "#### PyoFrame"
   ]
  },
  {
   "cell_type": "code",
   "execution_count": 35,
   "id": "bf69e9f3-bf6c-4c98-a07c-8210fa5dfa0e",
   "metadata": {},
   "outputs": [
    {
     "data": {
      "text/plain": [
       "(<Constraint name=eq_I_init sense='=' size=3 dimensions={'gen': 3, 't': 1} terms=10>\n",
       " [1,1]: I[1,1] - SU[1,1] + SD[1,1] = 1\n",
       " [2,1]: I[2,1] - SU[2,1] + SD[2,1] = 0\n",
       " [3,1]: I[3,1] - SU[3,1] + SD[3,1] = 0,\n",
       " <Constraint name=eq_I sense='=' size=6 dimensions={'gen': 3, 't': 2} terms=24>\n",
       " [1,1]: - I[1,1] + I[1,2] - SU[1,2] + SD[1,2] = 0\n",
       " [1,2]: - I[1,2] + I[1,3] - SU[1,3] + SD[1,3] = 0\n",
       " [2,1]: - I[2,1] + I[2,2] - SU[2,2] + SD[2,2] = 0\n",
       " [2,2]: - I[2,2] + I[2,3] - SU[2,3] + SD[2,3] = 0\n",
       " [3,1]: - I[3,1] + I[3,2] - SU[3,2] + SD[3,2] = 0\n",
       " [3,2]: - I[3,2] + I[3,3] - SU[3,3] + SD[3,3] = 0)"
      ]
     },
     "execution_count": 35,
     "metadata": {},
     "output_type": "execute_result"
    }
   ],
   "source": [
    "I0 = generators.select(\"gen\", \"I_init\").to_expr().add_dim(\"t\")\n",
    "pf_model.eq_I_init = pf_model.I.filter(t=1) == I0 + pf_model.SU.filter(\n",
    "    t=1\n",
    ") - pf_model.SD.filter(t=1)\n",
    "pf_model.eq_I = pf_model.I.next(\"t\") - pf_model.I.drop_unmatched() == pf_model.SU.next(\n",
    "    \"t\"\n",
    ") - pf_model.SD.next(\"t\")\n",
    "pf_model.eq_I_init, pf_model.eq_I"
   ]
  },
  {
   "cell_type": "markdown",
   "id": "530d18c4-0184-4f6d-8d43-36f869f89909",
   "metadata": {},
   "source": [
    "### Transmission limits"
   ]
  },
  {
   "cell_type": "markdown",
   "id": "b9856fa6-5913-48a7-8758-fdae6f1cdaba",
   "metadata": {},
   "source": [
    "4. **Transmission Line Capacity Limits**  \n",
    "   For each transmission line $l$ and time $t$:\n",
    "\n",
    "   $$\n",
    "   -\\text{max}P_l \\leq P_l(l, t) \\leq \\text{max}P_l\n",
    "   $$"
   ]
  },
  {
   "cell_type": "markdown",
   "id": "25451ebb-7133-4f8d-bf8f-a5a89d42d92d",
   "metadata": {},
   "source": [
    "#### Gurobi"
   ]
  },
  {
   "cell_type": "code",
   "execution_count": null,
   "id": "760cc619-dad1-4988-88e2-6c3d76f797b0",
   "metadata": {},
   "outputs": [],
   "source": [
    "for line in transmission_lines[\"l\"]:\n",
    "    for t in time_periods:\n",
    "        line_limit = transmission_lines.filter(l=line)[\"capacity\"].item()\n",
    "        gp_model.addConstr(P_l[line, t] <= line_limit)\n",
    "        gp_model.addConstr(P_l[line, t] >= -line_limit)"
   ]
  },
  {
   "cell_type": "markdown",
   "id": "675e85a3-b2bc-41df-9b89-37f4580cdf7a",
   "metadata": {},
   "source": [
    "#### PyoFrame"
   ]
  },
  {
   "cell_type": "code",
   "execution_count": 37,
   "id": "0cd9d3a2-c080-471b-8736-2b311b34a5a3",
   "metadata": {},
   "outputs": [],
   "source": [
    "pf_model.re_Pl_FT = pf_model.P_l <= transmission_lines.select(\n",
    "    \"l\", \"capacity\"\n",
    ").to_expr().add_dim(\"t\")\n",
    "pf_model.re_Pl_TF = pf_model.P_l >= -transmission_lines.select(\n",
    "    \"l\", \"capacity\"\n",
    ").to_expr().add_dim(\"t\")"
   ]
  },
  {
   "cell_type": "markdown",
   "id": "92c39776-2b55-4524-a65d-becb53ec5bac",
   "metadata": {},
   "source": [
    "### DC Power flow"
   ]
  },
  {
   "cell_type": "markdown",
   "id": "ae1962f3-8543-41b8-badc-610849338851",
   "metadata": {},
   "source": [
    "5. **DC Power Flow**  \n",
    "   The power flow on each transmission line $l$ from bus $j$ to bus $k$ at time $t$ is given by:\n",
    "\n",
    "   $$\n",
    "   P_l(l,t) = B_l \\left(\\delta_n(j,t) - \\delta_n(k,t)\\right)\n",
    "   $$"
   ]
  },
  {
   "cell_type": "markdown",
   "id": "25af5171-834e-41e0-ac0b-017cd15a0907",
   "metadata": {},
   "source": [
    "#### Gurobi"
   ]
  },
  {
   "cell_type": "code",
   "execution_count": null,
   "id": "c85cb66d-57f3-44f0-8696-44f5953bf24f",
   "metadata": {},
   "outputs": [],
   "source": [
    "for line in transmission_lines[\"l\"]:\n",
    "    for t in time_periods:\n",
    "        from_bus = transmission_lines.filter(l=line)[\"from\"].item()\n",
    "        to_bus = transmission_lines.filter(l=line)[\"to\"].item()\n",
    "        susc = transmission_lines.filter(l=line)[\"susceptance\"].item()\n",
    "        gp_model.addConstr(\n",
    "            P_l[line, t] == susc * (delta_n[from_bus, t] - delta_n[to_bus, t])\n",
    "        )"
   ]
  },
  {
   "cell_type": "markdown",
   "id": "cc7f013d-6a66-4b71-b8e8-b4bdcc17bfdb",
   "metadata": {},
   "source": [
    "#### PyoFrame"
   ]
  },
  {
   "cell_type": "code",
   "execution_count": 39,
   "id": "8e7a724e-5129-48de-9172-a0691df5f5f4",
   "metadata": {},
   "outputs": [
    {
     "data": {
      "text/plain": [
       "<Variable name=delta_n size=9 dimensions={'n': 3, 't': 3}>\n",
       "[1,1]: delta_n[1,1]\n",
       "[1,2]: delta_n[1,2]\n",
       "[1,3]: delta_n[1,3]\n",
       "[2,1]: delta_n[2,1]\n",
       "[2,2]: delta_n[2,2]\n",
       "[2,3]: delta_n[2,3]\n",
       "[3,1]: delta_n[3,1]\n",
       "[3,2]: delta_n[3,2]\n",
       "[3,3]: delta_n[3,3]"
      ]
     },
     "execution_count": 39,
     "metadata": {},
     "output_type": "execute_result"
    }
   ],
   "source": [
    "pf_model.delta_n"
   ]
  },
  {
   "cell_type": "code",
   "execution_count": 40,
   "id": "b5117a2e-70c6-4b3a-9803-6c415cd01a43",
   "metadata": {},
   "outputs": [],
   "source": [
    "voltage_angle_from = pf_model.delta_n.map(\n",
    "    transmission_lines.select(\"l\", \"from\").rename({\"from\": \"n\"})\n",
    ")\n",
    "voltage_angle_to = pf_model.delta_n.map(\n",
    "    transmission_lines.select(\"l\", \"to\").rename({\"to\": \"n\"})\n",
    ")\n",
    "susc = transmission_lines.select(\"l\", \"susceptance\")\n",
    "pf_model.eq_dc = pf_model.P_l == susc * (voltage_angle_from - voltage_angle_to)"
   ]
  },
  {
   "cell_type": "code",
   "execution_count": 41,
   "id": "7ff9082c-11c9-402f-95a4-08e789bd641b",
   "metadata": {},
   "outputs": [
    {
     "data": {
      "text/plain": [
       "<Expression size=9 dimensions={'t': 3, 'l': 3} terms=9>\n",
       "[1,1]: delta_n[1,1]\n",
       "[1,3]: delta_n[1,1]\n",
       "[2,1]: delta_n[1,2]\n",
       "[2,3]: delta_n[1,2]\n",
       "[3,1]: delta_n[1,3]\n",
       "[3,3]: delta_n[1,3]\n",
       "[1,2]: delta_n[2,1]\n",
       "[2,2]: delta_n[2,2]\n",
       "[3,2]: delta_n[2,3]"
      ]
     },
     "execution_count": 41,
     "metadata": {},
     "output_type": "execute_result"
    }
   ],
   "source": [
    "voltage_angle_from"
   ]
  },
  {
   "cell_type": "markdown",
   "id": "c84f1bdc-0fcc-43ec-90dc-ea1c385adf3c",
   "metadata": {},
   "source": [
    "### Voltage angle reference"
   ]
  },
  {
   "cell_type": "markdown",
   "id": "8dfd5d15-4700-4f40-a0bc-d8a646149cbe",
   "metadata": {},
   "source": [
    "6. **Voltage Angle Reference**  \n",
    "   To ensure a unique solution, fix the voltage angle at one bus (e.g., $\\delta_n(1,t) = 0$)."
   ]
  },
  {
   "cell_type": "markdown",
   "id": "33543b67-b1da-40b4-b831-bfac2445a060",
   "metadata": {},
   "source": [
    "#### Gurobi"
   ]
  },
  {
   "cell_type": "code",
   "execution_count": 42,
   "id": "f1e4fcc8-3442-4138-a249-ea52bbdce735",
   "metadata": {},
   "outputs": [],
   "source": [
    "for t in time_periods:\n",
    "    gp_model.addConstr(delta_n[1, t] == 0)"
   ]
  },
  {
   "cell_type": "markdown",
   "id": "7b071020-67ab-4f9a-a3f2-d0ecc5276061",
   "metadata": {},
   "source": [
    "#### PyoFrame"
   ]
  },
  {
   "cell_type": "code",
   "execution_count": 43,
   "id": "1ecd29a6-cd5f-42b8-a8ff-cc108cca7c4a",
   "metadata": {},
   "outputs": [],
   "source": [
    "pf_model.eq_slack = pf_model.delta_n.filter(n=1) == 0"
   ]
  },
  {
   "cell_type": "markdown",
   "id": "47242841-a4ae-4155-9f70-95e7932a348d",
   "metadata": {},
   "source": [
    "## Solve the model"
   ]
  },
  {
   "cell_type": "markdown",
   "id": "4f7a7b55-a79c-44b9-83f1-b51679b46a6c",
   "metadata": {},
   "source": [
    "#### Gurobi"
   ]
  },
  {
   "cell_type": "code",
   "execution_count": 44,
   "id": "849569ff-b7ac-4ec1-8757-474c4ede5192",
   "metadata": {},
   "outputs": [
    {
     "name": "stdout",
     "output_type": "stream",
     "text": [
      "Gurobi Optimizer version 12.0.1 build v12.0.1rc0 (win64 - Windows 11.0 (22631.2))\n",
      "\n",
      "CPU model: 11th Gen Intel(R) Core(TM) i7-1165G7 @ 2.80GHz, instruction set [SSE2|AVX|AVX2|AVX512]\n",
      "Thread count: 4 physical cores, 8 logical processors, using up to 8 threads\n",
      "\n",
      "Optimize a model with 66 rows, 54 columns and 144 nonzeros\n",
      "Model fingerprint: 0xb7de586e\n",
      "Variable types: 27 continuous, 27 integer (27 binary)\n",
      "Coefficient statistics:\n",
      "  Matrix range     [1e+00, 2e+02]\n",
      "  Objective range  [3e+01, 2e+02]\n",
      "  Bounds range     [1e+00, 1e+00]\n",
      "  RHS range        [1e+00, 1e+02]\n",
      "Presolve removed 59 rows and 48 columns\n",
      "Presolve time: 0.08s\n",
      "Presolved: 7 rows, 6 columns, 21 nonzeros\n",
      "Variable types: 3 continuous, 3 integer (3 binary)\n",
      "Found heuristic solution: objective 18950.000000\n",
      "Found heuristic solution: objective 17200.000000\n",
      "\n",
      "Root relaxation: cutoff, 0 iterations, 0.00 seconds (0.00 work units)\n",
      "\n",
      "Explored 1 nodes (0 simplex iterations) in 0.12 seconds (0.00 work units)\n",
      "Thread count was 8 (of 8 available processors)\n",
      "\n",
      "Solution count 2: 17200 18950 \n",
      "\n",
      "Optimal solution found (tolerance 1.00e-04)\n",
      "Best objective 1.720000000000e+04, best bound 1.720000000000e+04, gap 0.0000%\n"
     ]
    }
   ],
   "source": [
    "gp_model.optimize()"
   ]
  },
  {
   "cell_type": "code",
   "execution_count": null,
   "id": "727d37fb-0f44-44bc-837b-88d6b1b9a22d",
   "metadata": {},
   "outputs": [
    {
     "name": "stdout",
     "output_type": "stream",
     "text": [
      "Optimal solution found! Best objective 17200.0\n",
      "Generator 1 at time 1: On/Off = 1.0, Power Output = 150.0 MW\n",
      "Generator 2 at time 1: On/Off = 1.0, Power Output = 39.99999999999999 MW\n",
      "Generator 3 at time 1: On/Off = -0.0, Power Output = 0.0 MW\n",
      "Generator 1 at time 2: On/Off = 1.0, Power Output = 150.0 MW\n",
      "Generator 2 at time 2: On/Off = 1.0, Power Output = 100.0 MW\n",
      "Generator 3 at time 2: On/Off = 1.0, Power Output = 70.0 MW\n",
      "Generator 1 at time 3: On/Off = 1.0, Power Output = 70.0 MW\n",
      "Generator 2 at time 3: On/Off = -0.0, Power Output = 0.0 MW\n",
      "Generator 3 at time 3: On/Off = -0.0, Power Output = 0.0 MW\n",
      "Transmission Line 1 at time 1: Power Flow = -26.153846153846153 MW\n",
      "Transmission Line 2 at time 1: Power Flow = -16.153846153846153 MW\n",
      "Transmission Line 3 at time 1: Power Flow = -23.846153846153847 MW\n",
      "Transmission Line 1 at time 2: Power Flow = -16.923076923076906 MW\n",
      "Transmission Line 2 at time 2: Power Flow = -6.923076923076913 MW\n",
      "Transmission Line 3 at time 2: Power Flow = -13.076923076923077 MW\n",
      "Transmission Line 1 at time 3: Power Flow = -26.153846153846153 MW\n",
      "Transmission Line 2 at time 3: Power Flow = -1.1538461538461544 MW\n",
      "Transmission Line 3 at time 3: Power Flow = -13.846153846153847 MW\n"
     ]
    }
   ],
   "source": [
    "def print_gurobi_solution():\n",
    "    m = gp_model\n",
    "    if m.status == GRB.OPTIMAL:\n",
    "        print(f\"Optimal solution found! Best objective {m.objVal}\")\n",
    "        for t in time_periods:\n",
    "            for gen in generators[\"gen\"]:\n",
    "                print(\n",
    "                    f\"Generator {gen} at time {t}: On/Off = {I[gen, t].x}, Power Output = {P_g[gen, t].x} MW\"\n",
    "                )\n",
    "        for t in time_periods:\n",
    "            for line in transmission_lines[\"l\"]:\n",
    "                print(\n",
    "                    f\"Transmission Line {line} at time {t}: Power Flow = {P_l[line, t].x} MW\"\n",
    "                )\n",
    "    else:\n",
    "        print(\"No optimal solution found.\")\n",
    "\n",
    "\n",
    "print_gurobi_solution()"
   ]
  },
  {
   "cell_type": "code",
   "execution_count": null,
   "id": "6f07651d-1903-455d-ae14-3c19ccef7508",
   "metadata": {},
   "outputs": [],
   "source": []
  },
  {
   "cell_type": "markdown",
   "id": "fb28cd43-1d53-4b21-a17d-c5798519f2bb",
   "metadata": {},
   "source": [
    "#### PyoFrame"
   ]
  },
  {
   "cell_type": "code",
   "execution_count": 47,
   "id": "deb3726f-9dc4-4e8e-a4ce-61f26ee08ad2",
   "metadata": {},
   "outputs": [],
   "source": [
    "result = pf_model.optimize()"
   ]
  },
  {
   "cell_type": "code",
   "execution_count": 48,
   "id": "194478a1-6be0-4496-9dcb-e5c287018b56",
   "metadata": {},
   "outputs": [
    {
     "name": "stdout",
     "output_type": "stream",
     "text": [
      "Dispatch:\n",
      "shape: (9, 3)\n",
      "┌─────┬─────┬──────────┐\n",
      "│ gen ┆ t   ┆ solution │\n",
      "│ --- ┆ --- ┆ ---      │\n",
      "│ i64 ┆ i64 ┆ i64      │\n",
      "╞═════╪═════╪══════════╡\n",
      "│ 1   ┆ 1   ┆ 1        │\n",
      "│ 2   ┆ 1   ┆ 1        │\n",
      "│ 3   ┆ 1   ┆ 0        │\n",
      "│ 1   ┆ 2   ┆ 1        │\n",
      "│ 2   ┆ 2   ┆ 1        │\n",
      "│ 3   ┆ 2   ┆ 1        │\n",
      "│ 1   ┆ 3   ┆ 1        │\n",
      "│ 2   ┆ 3   ┆ 0        │\n",
      "│ 3   ┆ 3   ┆ 0        │\n",
      "└─────┴─────┴──────────┘\n",
      "Generation:\n",
      "shape: (9, 3)\n",
      "┌─────┬─────┬──────────┐\n",
      "│ gen ┆ t   ┆ solution │\n",
      "│ --- ┆ --- ┆ ---      │\n",
      "│ i64 ┆ i64 ┆ f64      │\n",
      "╞═════╪═════╪══════════╡\n",
      "│ 1   ┆ 1   ┆ 150.0    │\n",
      "│ 2   ┆ 1   ┆ 40.0     │\n",
      "│ 3   ┆ 1   ┆ 0.0      │\n",
      "│ 1   ┆ 2   ┆ 150.0    │\n",
      "│ 2   ┆ 2   ┆ 100.0    │\n",
      "│ 3   ┆ 2   ┆ 70.0     │\n",
      "│ 1   ┆ 3   ┆ 70.0     │\n",
      "│ 2   ┆ 3   ┆ 0.0      │\n",
      "│ 3   ┆ 3   ┆ 0.0      │\n",
      "└─────┴─────┴──────────┘\n"
     ]
    }
   ],
   "source": [
    "def print_pyoframe_solution():\n",
    "    m = pf_model\n",
    "    print(\"Dispatch:\")\n",
    "    print(m.I.solution.sort(\"t\"))\n",
    "    print(\"Generation:\")\n",
    "    print(m.P_g.solution.sort(\"t\"))\n",
    "\n",
    "\n",
    "print_pyoframe_solution()"
   ]
  }
 ],
 "metadata": {
  "kernelspec": {
   "display_name": ".venv",
   "language": "python",
   "name": "python3"
  },
  "language_info": {
   "codemirror_mode": {
    "name": "ipython",
    "version": 3
   },
   "file_extension": ".py",
   "mimetype": "text/x-python",
   "name": "python",
   "nbconvert_exporter": "python",
   "pygments_lexer": "ipython3",
   "version": "3.9.13"
  }
 },
 "nbformat": 4,
 "nbformat_minor": 5
}
