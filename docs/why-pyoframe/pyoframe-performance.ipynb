{
 "cells": [
  {
   "cell_type": "markdown",
   "id": "470ef0b3-daae-4653-97e3-4e323ffec0e4",
   "metadata": {},
   "source": [
    "# Anecdotal evidence of pyoframe's performance\n",
    "\n",
    "The example brought up here is related to the unit-commitment problem for power grids, which is a mixed-integer linear programming problem. The solution to the model provides the most economical way of dispatching generators in a power grid.\n",
    "\n",
    "For this demonstration of pyoframe's capabilities, we focus on a particular detail in setting up the unit-commitment related to the definition of where in the grid generation resources inject their power output.\n",
    "\n",
    "The figure below illustrates the concept for a simple case, where there are four generation resources (\"Res\") and three defined nodes where power can be injected (\"Gen\"). Three Resources inject all their power at one single Generator, but Resource 4 divides its power output between Generator 2 and Generator 3. \n",
    "\n",
    "For the demonstration we use real-world data from the Texas power grid (ERCOT), which defines 787 relations between thermal generation resources and generators.\n",
    "\n",
    "The demonstration contrasts pyoframe with gurobipy and [linopy](https://linopy.readthedocs.io/en/latest/), an opimization library based on [xarray](https://github.com/pydata/xarray). "
   ]
  },
  {
   "cell_type": "markdown",
   "id": "34ac8b52-7b55-494f-ba49-e271e65a5fe0",
   "metadata": {},
   "source": [
    "<img src=\"./three-bus-four-gen.png\" alt=\"Three-bus grid\" width=\"500\">"
   ]
  },
  {
   "cell_type": "code",
   "execution_count": 11,
   "id": "ab74df8f-886a-4413-a688-9a40d5f2eb54",
   "metadata": {},
   "outputs": [
    {
     "name": "stdout",
     "output_type": "stream",
     "text": [
      "Note: you may need to restart the kernel to use updated packages.Requirement already satisfied: linopy in c:\\users\\staadeck\\software\\pyoframe\\.venv\\lib\\site-packages (0.5.3)\n",
      "Requirement already satisfied: pyoframe in c:\\users\\staadeck\\software\\pyoframe\\.venv\\lib\\site-packages (0.1.5)\n",
      "Requirement already satisfied: pandas in c:\\users\\staadeck\\software\\pyoframe\\.venv\\lib\\site-packages (2.2.3)\n",
      "Requirement already satisfied: gurobipy in c:\\users\\staadeck\\software\\pyoframe\\.venv\\lib\\site-packages (12.0.1)\n",
      "Requirement already satisfied: fastparquet in c:\\users\\staadeck\\software\\pyoframe\\.venv\\lib\\site-packages (2024.11.0)\n",
      "Requirement already satisfied: numpy<2 in c:\\users\\staadeck\\software\\pyoframe\\.venv\\lib\\site-packages (from linopy) (1.26.4)\n",
      "Requirement already satisfied: scipy in c:\\users\\staadeck\\software\\pyoframe\\.venv\\lib\\site-packages (from linopy) (1.13.1)\n",
      "Requirement already satisfied: bottleneck in c:\\users\\staadeck\\software\\pyoframe\\.venv\\lib\\site-packages (from linopy) (1.4.2)\n",
      "Requirement already satisfied: toolz in c:\\users\\staadeck\\software\\pyoframe\\.venv\\lib\\site-packages (from linopy) (1.0.0)\n",
      "Requirement already satisfied: numexpr in c:\\users\\staadeck\\software\\pyoframe\\.venv\\lib\\site-packages (from linopy) (2.10.2)\n",
      "Requirement already satisfied: xarray>=2024.2.0 in c:\\users\\staadeck\\software\\pyoframe\\.venv\\lib\\site-packages (from linopy) (2024.7.0)\n",
      "Requirement already satisfied: dask>=0.18.0 in c:\\users\\staadeck\\software\\pyoframe\\.venv\\lib\\site-packages (from linopy) (2024.8.0)\n",
      "Requirement already satisfied: polars in c:\\users\\staadeck\\software\\pyoframe\\.venv\\lib\\site-packages (from linopy) (1.22.0)\n",
      "Requirement already satisfied: tqdm in c:\\users\\staadeck\\software\\pyoframe\\.venv\\lib\\site-packages (from linopy) (4.67.1)\n",
      "Requirement already satisfied: deprecation in c:\\users\\staadeck\\software\\pyoframe\\.venv\\lib\\site-packages (from linopy) (2.1.0)\n",
      "Requirement already satisfied: pyarrow in c:\\users\\staadeck\\software\\pyoframe\\.venv\\lib\\site-packages (from pyoframe) (19.0.0)\n",
      "Requirement already satisfied: packaging in c:\\users\\staadeck\\software\\pyoframe\\.venv\\lib\\site-packages (from pyoframe) (24.2)\n",
      "Requirement already satisfied: pyoptinterface<1,>=0.4.1 in c:\\users\\staadeck\\software\\pyoframe\\.venv\\lib\\site-packages (from pyoframe) (0.4.1)\n",
      "Requirement already satisfied: python-dateutil>=2.8.2 in c:\\users\\staadeck\\software\\pyoframe\\.venv\\lib\\site-packages (from pandas) (2.9.0.post0)\n",
      "Requirement already satisfied: pytz>=2020.1 in c:\\users\\staadeck\\software\\pyoframe\\.venv\\lib\\site-packages (from pandas) (2025.1)\n",
      "Requirement already satisfied: tzdata>=2022.7 in c:\\users\\staadeck\\software\\pyoframe\\.venv\\lib\\site-packages (from pandas) (2025.1)\n",
      "Requirement already satisfied: cramjam>=2.3 in c:\\users\\staadeck\\software\\pyoframe\\.venv\\lib\\site-packages (from fastparquet) (2.10.0)\n",
      "Requirement already satisfied: fsspec in c:\\users\\staadeck\\software\\pyoframe\\.venv\\lib\\site-packages (from fastparquet) (2025.3.2)\n",
      "Requirement already satisfied: click>=8.1 in c:\\users\\staadeck\\software\\pyoframe\\.venv\\lib\\site-packages (from dask>=0.18.0->linopy) (8.1.8)\n",
      "Requirement already satisfied: cloudpickle>=1.5.0 in c:\\users\\staadeck\\software\\pyoframe\\.venv\\lib\\site-packages (from dask>=0.18.0->linopy) (3.1.1)\n",
      "Requirement already satisfied: partd>=1.4.0 in c:\\users\\staadeck\\software\\pyoframe\\.venv\\lib\\site-packages (from dask>=0.18.0->linopy) (1.4.2)\n",
      "Requirement already satisfied: pyyaml>=5.3.1 in c:\\users\\staadeck\\software\\pyoframe\\.venv\\lib\\site-packages (from dask>=0.18.0->linopy) (6.0.2)\n",
      "Requirement already satisfied: importlib-metadata>=4.13.0 in c:\\users\\staadeck\\software\\pyoframe\\.venv\\lib\\site-packages (from dask>=0.18.0->linopy) (8.6.1)\n",
      "Requirement already satisfied: six>=1.5 in c:\\users\\staadeck\\software\\pyoframe\\.venv\\lib\\site-packages (from python-dateutil>=2.8.2->pandas) (1.17.0)\n",
      "Requirement already satisfied: colorama in c:\\users\\staadeck\\software\\pyoframe\\.venv\\lib\\site-packages (from tqdm->linopy) (0.4.6)\n",
      "Requirement already satisfied: zipp>=3.20 in c:\\users\\staadeck\\software\\pyoframe\\.venv\\lib\\site-packages (from importlib-metadata>=4.13.0->dask>=0.18.0->linopy) (3.21.0)\n",
      "Requirement already satisfied: locket in c:\\users\\staadeck\\software\\pyoframe\\.venv\\lib\\site-packages (from partd>=1.4.0->dask>=0.18.0->linopy) (1.0.0)\n",
      "\n"
     ]
    },
    {
     "name": "stderr",
     "output_type": "stream",
     "text": [
      "\n",
      "[notice] A new release of pip is available: 25.0.1 -> 25.1.1\n",
      "[notice] To update, run: python.exe -m pip install --upgrade pip\n"
     ]
    }
   ],
   "source": [
    "%pip install linopy pyoframe pandas gurobipy fastparquet"
   ]
  },
  {
   "cell_type": "code",
   "execution_count": 12,
   "id": "918c1b0a-b8d9-41fe-bed2-f6dc104c5612",
   "metadata": {},
   "outputs": [],
   "source": [
    "import gurobipy as gp\n",
    "import linopy as lp\n",
    "import pandas as pd\n",
    "import polars as pl\n",
    "from gurobipy import GRB\n",
    "\n",
    "import pyoframe as pf"
   ]
  },
  {
   "cell_type": "markdown",
   "id": "a1e48495-f26f-4338-b6cd-738837169928",
   "metadata": {},
   "source": [
    "## Load data"
   ]
  },
  {
   "cell_type": "code",
   "execution_count": 13,
   "id": "4440fdf5-311f-4251-846f-357b2af8e085",
   "metadata": {},
   "outputs": [],
   "source": [
    "py = (\n",
    "    pl.read_parquet(\"./data_py.parquet\").select(\"p\", \"y\").unique()\n",
    ")  # Set of thermal generation resources\n",
    "# p is the index over individual plants, and y an index over possible modes (for combined-cycle plants).\n",
    "\n",
    "t = pl.DataFrame({\"t\": range(34)})  # Time vector\n",
    "\n",
    "# Indexes over which variables are defined.\n",
    "pyt = py.join(t, how=\"cross\")\n",
    "pyt_tl = [tuple(row) for row in pyt.iter_rows()]\n",
    "p_coords, y_coords, t_coords = (\n",
    "    pd.Index(pyt[\"p\"].unique()),\n",
    "    pd.Index(pyt[\"y\"].unique()),\n",
    "    pd.Index(t[\"t\"]),\n",
    ")"
   ]
  },
  {
   "cell_type": "code",
   "execution_count": 14,
   "id": "c070e2d3-16b2-44b6-921e-738d2f24da7f",
   "metadata": {},
   "outputs": [
    {
     "data": {
      "text/html": [
       "<div><style>\n",
       ".dataframe > thead > tr,\n",
       ".dataframe > tbody > tr {\n",
       "  text-align: right;\n",
       "  white-space: pre-wrap;\n",
       "}\n",
       "</style>\n",
       "<small>shape: (16_694, 3)</small><table border=\"1\" class=\"dataframe\"><thead><tr><th>p</th><th>y</th><th>t</th></tr><tr><td>i64</td><td>i64</td><td>i64</td></tr></thead><tbody><tr><td>143</td><td>1</td><td>0</td></tr><tr><td>143</td><td>1</td><td>1</td></tr><tr><td>143</td><td>1</td><td>2</td></tr><tr><td>143</td><td>1</td><td>3</td></tr><tr><td>143</td><td>1</td><td>4</td></tr><tr><td>&hellip;</td><td>&hellip;</td><td>&hellip;</td></tr><tr><td>256</td><td>1</td><td>29</td></tr><tr><td>256</td><td>1</td><td>30</td></tr><tr><td>256</td><td>1</td><td>31</td></tr><tr><td>256</td><td>1</td><td>32</td></tr><tr><td>256</td><td>1</td><td>33</td></tr></tbody></table></div>"
      ],
      "text/plain": [
       "shape: (16_694, 3)\n",
       "┌─────┬─────┬─────┐\n",
       "│ p   ┆ y   ┆ t   │\n",
       "│ --- ┆ --- ┆ --- │\n",
       "│ i64 ┆ i64 ┆ i64 │\n",
       "╞═════╪═════╪═════╡\n",
       "│ 143 ┆ 1   ┆ 0   │\n",
       "│ 143 ┆ 1   ┆ 1   │\n",
       "│ 143 ┆ 1   ┆ 2   │\n",
       "│ 143 ┆ 1   ┆ 3   │\n",
       "│ 143 ┆ 1   ┆ 4   │\n",
       "│ …   ┆ …   ┆ …   │\n",
       "│ 256 ┆ 1   ┆ 29  │\n",
       "│ 256 ┆ 1   ┆ 30  │\n",
       "│ 256 ┆ 1   ┆ 31  │\n",
       "│ 256 ┆ 1   ┆ 32  │\n",
       "│ 256 ┆ 1   ┆ 33  │\n",
       "└─────┴─────┴─────┘"
      ]
     },
     "execution_count": 14,
     "metadata": {},
     "output_type": "execute_result"
    }
   ],
   "source": [
    "pyt"
   ]
  },
  {
   "cell_type": "code",
   "execution_count": 15,
   "id": "476aa442-088f-4762-9c3e-395696f99980",
   "metadata": {},
   "outputs": [],
   "source": [
    "gen_py = pd.read_parquet(\"./gen_py.parquet\").set_index(\n",
    "    [\"p\", \"y\", \"gen\"]\n",
    ")  # Relationship between resources and generators\n",
    "gen_py_pl = pl.from_pandas(gen_py.reset_index())"
   ]
  },
  {
   "cell_type": "markdown",
   "id": "ae11aebc-b63a-440c-97a5-1e517817121c",
   "metadata": {},
   "source": [
    "## Instantiate models"
   ]
  },
  {
   "cell_type": "code",
   "execution_count": 16,
   "id": "90ec4acb-69f4-4b0a-9b01-c518f33eb1aa",
   "metadata": {},
   "outputs": [
    {
     "name": "stdout",
     "output_type": "stream",
     "text": [
      "Set parameter Username\n",
      "Set parameter LicenseID to value 2596799\n",
      "Academic license - for non-commercial use only - expires 2025-12-07\n"
     ]
    }
   ],
   "source": [
    "gp_model = gp.Model(\"Example\")\n",
    "pf_model = pf.Model(sense=\"min\")\n",
    "lp_model = lp.Model()"
   ]
  },
  {
   "cell_type": "markdown",
   "id": "503ac043-20c9-4a1c-be66-45bbc14fc4a1",
   "metadata": {},
   "source": [
    "## Create variables"
   ]
  },
  {
   "cell_type": "code",
   "execution_count": 17,
   "id": "fa2c4ce3-71ab-41e1-bc56-e2c7defd9bd4",
   "metadata": {},
   "outputs": [],
   "source": [
    "P_py_gp = gp_model.addVars(pyt_tl, vtype=GRB.CONTINUOUS, name=\"P_py\")\n",
    "gp_model.update()\n",
    "P_py_lp = lp_model.add_variables(\n",
    "    coords=[p_coords, y_coords, t_coords],\n",
    "    lower=0.0,\n",
    "    name=\"P_py\",\n",
    ")\n",
    "pf_model.P_py = pf.Variable(pyt, lb=0)"
   ]
  },
  {
   "cell_type": "markdown",
   "id": "7238545c-ab76-4c86-928b-d32048120cc4",
   "metadata": {},
   "source": [
    "## Memory use"
   ]
  },
  {
   "cell_type": "markdown",
   "id": "8c28713a-4238-47cd-a5aa-855f5c312c3e",
   "metadata": {},
   "source": [
    "### Amount of memory occupied by linopy variable"
   ]
  },
  {
   "cell_type": "code",
   "execution_count": 18,
   "id": "173c9be6-e7f2-4412-8bd4-d92c551db09a",
   "metadata": {},
   "outputs": [
    {
     "name": "stdout",
     "output_type": "stream",
     "text": [
      "Memory used by P_py_lp: 5.71 MB\n"
     ]
    }
   ],
   "source": [
    "memory_usage_lp = sum(var.nbytes for var in P_py_lp.data.variables.values())\n",
    "memory_usage_MB_lp = memory_usage_lp / (1024**2)\n",
    "\n",
    "print(f\"Memory used by P_py_lp: {memory_usage_MB_lp:.2f} MB\")"
   ]
  },
  {
   "cell_type": "markdown",
   "id": "29eb0ef3-9eb7-4781-bdd4-015637216355",
   "metadata": {},
   "source": [
    "### Amount of memory occupied by pyoframe variable"
   ]
  },
  {
   "cell_type": "code",
   "execution_count": 19,
   "id": "23036ffe-dd72-492b-9ea3-311c84af1314",
   "metadata": {},
   "outputs": [
    {
     "name": "stdout",
     "output_type": "stream",
     "text": [
      "Memory used by P_py (pyoframe): 0.45 MB\n"
     ]
    }
   ],
   "source": [
    "memory_usage_pf = pf_model.P_py.data.estimated_size()\n",
    "memory_usage_MB_pf = memory_usage_pf / (1024**2)\n",
    "\n",
    "print(f\"Memory used by P_py (pyoframe): {memory_usage_MB_pf:.2f} MB\")"
   ]
  },
  {
   "cell_type": "markdown",
   "id": "1b5530da-c911-4865-993d-db883c31835d",
   "metadata": {},
   "source": [
    "### Pyoframe is **leaner**!"
   ]
  },
  {
   "cell_type": "code",
   "execution_count": 20,
   "id": "b9860f3c-3ea2-49b8-b92d-1986defee8e8",
   "metadata": {},
   "outputs": [
    {
     "name": "stdout",
     "output_type": "stream",
     "text": [
      "Pyoframe variable uses  7.8 % of memory of linopy variable\n"
     ]
    }
   ],
   "source": [
    "# Improvement\n",
    "print(\n",
    "    f\"Pyoframe variable uses {memory_usage_MB_pf / memory_usage_MB_lp * 100: .1f} % of memory of linopy variable\"\n",
    ")"
   ]
  },
  {
   "cell_type": "markdown",
   "id": "91ef8ead-f9b6-42a6-b30d-90bd90cc1d10",
   "metadata": {},
   "source": [
    "The reason for this is that pyoframe stores variables in apolars dataframe, in what is essentially a coordinate format (coo) sparse representation. Linopy uses xarray, which is a dense representation over the indexes p, y and t."
   ]
  },
  {
   "cell_type": "markdown",
   "id": "381aac2a-717c-4a48-82e8-8134d9f808e5",
   "metadata": {},
   "source": [
    "## Speed"
   ]
  },
  {
   "cell_type": "markdown",
   "id": "ed4141ae-e289-412e-b2ae-5900cd7f8328",
   "metadata": {},
   "source": [
    "### Mapping generator output to busses in Gurobipy"
   ]
  },
  {
   "cell_type": "code",
   "execution_count": 21,
   "id": "cec0c320-113b-4c70-aaaa-8f0579707cf1",
   "metadata": {},
   "outputs": [],
   "source": [
    "def gp_generation_at_each_node(P_py, gen_py, time_periods):\n",
    "    return gp.tupledict(\n",
    "        (\n",
    "            (gen, t_),\n",
    "            gp.quicksum(\n",
    "                gen_py.loc[p, y, gen] * P_py[(p, y, t_)]\n",
    "                for p, y in gen_py.xs(key=gen, level=\"gen\").index\n",
    "                if (p, y, t_) in P_py\n",
    "            ),\n",
    "        )\n",
    "        for gen in gen_py.index.get_level_values(\"gen\")\n",
    "        for t_ in time_periods\n",
    "    )  # The power generated at each gen due to generation at the thermal plants"
   ]
  },
  {
   "cell_type": "code",
   "execution_count": 25,
   "id": "cf3847ac-b7dd-4345-a2fd-17563431f465",
   "metadata": {},
   "outputs": [
    {
     "name": "stdout",
     "output_type": "stream",
     "text": [
      "14.9 s ± 0 ns per loop (mean ± std. dev. of 1 run, 2 loops each)\n"
     ]
    }
   ],
   "source": [
    "result_gp = %timeit -o -n 2 -r 1 gp_generation_at_each_node(P_py_gp, gen_py[\"portion\"], t[\"t\"])"
   ]
  },
  {
   "cell_type": "code",
   "execution_count": 26,
   "id": "f53fef3f-1705-42d6-bda5-7f6e74babe92",
   "metadata": {},
   "outputs": [],
   "source": [
    "P_gen_gp = gp_generation_at_each_node(P_py_gp, gen_py[\"portion\"], t[\"t\"])"
   ]
  },
  {
   "cell_type": "code",
   "execution_count": 27,
   "id": "efcc20f0-5914-42a7-b7c7-19c98cbbce2e",
   "metadata": {},
   "outputs": [
    {
     "data": {
      "text/plain": [
       "<gurobi.LinExpr: 0.337254902 P_py[348,5,1]>"
      ]
     },
     "execution_count": 27,
     "metadata": {},
     "output_type": "execute_result"
    }
   ],
   "source": [
    "P_gen_gp[(669, 1)]"
   ]
  },
  {
   "cell_type": "markdown",
   "id": "65667174-7c34-4d7a-a938-46e083c16d35",
   "metadata": {},
   "source": [
    "### Mapping generator output to busses in pyoframe"
   ]
  },
  {
   "cell_type": "code",
   "execution_count": 28,
   "id": "c662a20c-d164-460b-843b-2f4e8247ae52",
   "metadata": {},
   "outputs": [],
   "source": [
    "pf_model.P_gen = pf.sum([\"p\", \"y\"], pf_model.P_py * gen_py_pl)"
   ]
  },
  {
   "cell_type": "code",
   "execution_count": 29,
   "id": "44e93492-13de-44d4-ae40-66a11c715b3e",
   "metadata": {},
   "outputs": [
    {
     "data": {
      "text/plain": [
       "<Expression size=1 dimensions={'t': 1, 'gen': 1} terms=1>\n",
       "[1,669]: 0.33725 P_py[348,5,1]"
      ]
     },
     "execution_count": 29,
     "metadata": {},
     "output_type": "execute_result"
    }
   ],
   "source": [
    "pf_model.P_gen.filter(gen=669, t=1)"
   ]
  },
  {
   "cell_type": "code",
   "execution_count": 30,
   "id": "d80aaccf-4ec7-4998-a278-9211551c0115",
   "metadata": {},
   "outputs": [
    {
     "name": "stdout",
     "output_type": "stream",
     "text": [
      "18.6 ms ± 10.5 ms per loop (mean ± std. dev. of 4 runs, 4 loops each)\n"
     ]
    }
   ],
   "source": [
    "result_pf = %timeit -o  -n 4 -r 4  pf.sum([\"p\", \"y\"], pf_model.P_py * gen_py_pl)"
   ]
  },
  {
   "cell_type": "markdown",
   "id": "003d39e6-5b86-48f7-833b-bb887700781e",
   "metadata": {},
   "source": [
    "### Pyoframe is **faster**"
   ]
  },
  {
   "cell_type": "code",
   "execution_count": 31,
   "id": "cdfd8c90-9425-4d00-9f0d-864c39f31bc4",
   "metadata": {},
   "outputs": [
    {
     "name": "stdout",
     "output_type": "stream",
     "text": [
      "Pyoframe is  1239.1 times faster than gurobipy\n"
     ]
    }
   ],
   "source": [
    "print(f\"Pyoframe is {result_gp.best / result_pf.best: .1f} times faster than gurobipy\")"
   ]
  },
  {
   "cell_type": "markdown",
   "id": "c8c830a2-2317-450b-aa71-0d1cdef1cda5",
   "metadata": {},
   "source": [
    "The reason for this improvement of three  orders of magnitude is that the gurobipy version with tupledict requires a triple loop in python to formulate the relationship, whereas the operation in pyoframe is a join operation on polars dataframes. "
   ]
  },
  {
   "cell_type": "markdown",
   "id": "3c2d0fb3-7bd0-43eb-a1e1-815bebcdfca7",
   "metadata": {},
   "source": [
    "## Readability\n",
    "Readability is of course hard to measure. This is just an example, and the reader will have to judge for herself. In our humble opinion, it is easier to see what is going on in the pyoframe version."
   ]
  },
  {
   "cell_type": "markdown",
   "id": "b6f76931-d4b7-4f38-ab12-13b83dd3fd13",
   "metadata": {},
   "source": [
    "### GAMS\n",
    "```gams\n",
    " eq_P_gen(gen,t)..  \n",
    "    P_gen(gen,t) =e= sum(p, sum(y$(py(p,y,\"py\") and (gen_py(p,y,gen,\"portion\") gt 0)), \n",
    "                                 P_py(p,y,t)*gen_py(p,y,gen,\"portion\")\n",
    "                                )\n",
    "                     )\n",
    "```"
   ]
  },
  {
   "cell_type": "markdown",
   "id": "81e8f15f-c137-4962-89ab-84d9ad7d914c",
   "metadata": {},
   "source": [
    "### PyoFrame\n",
    "```python\n",
    "self.P_gen_py = pf.sum([\"p\", \"y\"], self.model.P_py * gen_py)\n",
    "```\n",
    "and further below\n",
    "```python\n",
    "self.model.eq_P_gen = (\n",
    "    self.generators().keep_unmatched()\n",
    "    - self.P_gen_py.keep_unmatched()\n",
    "    - self.P_gen_hx.keep_unmatched()\n",
    "    - self.P_gen_v.keep_unmatched()\n",
    "    - self.P_gen_bat.keep_unmatched()\n",
    "    == 0\n",
    ")\n",
    "```"
   ]
  }
 ],
 "metadata": {
  "kernelspec": {
   "display_name": ".venv",
   "language": "python",
   "name": "python3"
  },
  "language_info": {
   "codemirror_mode": {
    "name": "ipython",
    "version": 3
   },
   "file_extension": ".py",
   "mimetype": "text/x-python",
   "name": "python",
   "nbconvert_exporter": "python",
   "pygments_lexer": "ipython3",
   "version": "3.9.13"
  }
 },
 "nbformat": 4,
 "nbformat_minor": 5
}
