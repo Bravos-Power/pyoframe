{
 "cells": [
  {
   "cell_type": "code",
   "execution_count": 1,
   "id": "355d1d7c",
   "metadata": {},
   "outputs": [],
   "source": [
    "import polars as pl\n",
    "\n",
    "from benchmarks.utils import mock_snakemake\n",
    "\n",
    "if \"snakemake\" not in globals() or hasattr(snakemake, \"mock\"):  # noqa: F821\n",
    "    snakemake = mock_snakemake(\"process_generator_data\")"
   ]
  },
  {
   "cell_type": "code",
   "execution_count": 2,
   "id": "1b8f8f0a",
   "metadata": {},
   "outputs": [
    {
     "data": {
      "application/vnd.microsoft.datawrangler.viewer.v0+json": {
       "columns": [
        {
         "name": "index",
         "rawType": "int64",
         "type": "integer"
        },
        {
         "name": "PlantCode",
         "rawType": "float64",
         "type": "float"
        },
        {
         "name": "GenID",
         "rawType": "object",
         "type": "unknown"
        },
        {
         "name": "bus",
         "rawType": "uint32",
         "type": "integer"
        },
        {
         "name": "FuelType",
         "rawType": "object",
         "type": "unknown"
        },
        {
         "name": "Pg",
         "rawType": "float64",
         "type": "float"
        },
        {
         "name": "Pmax",
         "rawType": "float64",
         "type": "float"
        },
        {
         "name": "Pmin",
         "rawType": "int64",
         "type": "integer"
        },
        {
         "name": "Qg",
         "rawType": "int64",
         "type": "integer"
        },
        {
         "name": "Qmax",
         "rawType": "float64",
         "type": "float"
        },
        {
         "name": "Qmin",
         "rawType": "float64",
         "type": "float"
        },
        {
         "name": "Lat",
         "rawType": "float64",
         "type": "float"
        },
        {
         "name": "Lon",
         "rawType": "float64",
         "type": "float"
        }
       ],
       "ref": "ecf603f9-0a2c-4517-aed2-307e9c98ca4d",
       "rows": [
        [
         "0",
         "34.0",
         "1P",
         "745",
         "Conventional Hydroelectric",
         "4.0333628",
         "12.1",
         "0",
         "0",
         "18.7771429",
         "-14.6707143",
         "39.134259",
         "-120.953341"
        ],
        [
         "1",
         "151.0",
         "1",
         "1804",
         "Petroleum Liquids",
         "0.0",
         "71.2",
         "0",
         "0",
         "34.5",
         "-23.7",
         "37.62936",
         "-120.93139"
        ],
        [
         "2",
         "151.0",
         "2",
         "1804",
         "Natural Gas Fired Combustion Turbine",
         "0.0",
         "71.2",
         "0",
         "0",
         "34.5",
         "-23.7",
         "37.62936",
         "-120.93139"
        ],
        [
         "3",
         "161.0",
         "1",
         "1964",
         "Conventional Hydroelectric",
         "0.366669117",
         "1.1",
         "0",
         "0",
         "18.7771429",
         "-14.6707143",
         "37.611461",
         "-120.594678"
        ],
        [
         "4",
         "161.0",
         "2",
         "1964",
         "Conventional Hydroelectric",
         "0.366669117",
         "1.1",
         "0",
         "0",
         "18.7771429",
         "-14.6707143",
         "37.611461",
         "-120.594678"
        ],
        [
         "5",
         "161.0",
         "3",
         "1964",
         "Conventional Hydroelectric",
         "0.366669117",
         "1.1",
         "0",
         "0",
         "18.7771429",
         "-14.6707143",
         "37.611461",
         "-120.594678"
        ],
        [
         "6",
         "162.0",
         "1",
         "1360",
         "Conventional Hydroelectric",
         "0.166667613",
         "0.5",
         "0",
         "0",
         "18.7771429",
         "-14.6707143",
         "37.621536",
         "-120.746247"
        ],
        [
         "7",
         "162.0",
         "2",
         "1360",
         "Conventional Hydroelectric",
         "0.166667613",
         "0.5",
         "0",
         "0",
         "18.7771429",
         "-14.6707143",
         "37.621536",
         "-120.746247"
        ],
        [
         "8",
         "180.0",
         "1",
         "1745",
         "Conventional Hydroelectric",
         "0.333335524",
         "1.0",
         "0",
         "0",
         "18.7771429",
         "-14.6707143",
         "40.45193",
         "-121.86215"
        ],
        [
         "9",
         "214.0",
         "1",
         "744",
         "Conventional Hydroelectric",
         "0.333335524",
         "1.0",
         "0",
         "0",
         "18.7771429",
         "-14.6707143",
         "39.215979",
         "-120.80355"
        ],
        [
         "10",
         "215.0",
         "1",
         "1587",
         "Conventional Hydroelectric",
         "0.466669881",
         "1.4",
         "0",
         "0",
         "18.7771429",
         "-14.6707143",
         "38.071944",
         "-120.539444"
        ],
        [
         "11",
         "219.0",
         "1",
         "8022",
         "Conventional Hydroelectric",
         "39.30029",
         "117.9",
         "0",
         "0",
         "57.1",
         "-39.3",
         "40.007445",
         "-121.249438"
        ],
        [
         "12",
         "220.0",
         "H1",
         "2220",
         "Conventional Hydroelectric",
         "11.0000809",
         "33.0",
         "0",
         "0",
         "0.0",
         "0.0",
         "39.91062",
         "-121.327692"
        ],
        [
         "13",
         "220.0",
         "H2",
         "2220",
         "Conventional Hydroelectric",
         "11.0000809",
         "33.0",
         "0",
         "0",
         "0.0",
         "0.0",
         "39.91062",
         "-121.327692"
        ],
        [
         "14",
         "221.0",
         "1",
         "1748",
         "Conventional Hydroelectric",
         "13.3334314",
         "40.0",
         "0",
         "0",
         "19.4",
         "-13.3",
         "40.175656",
         "-121.190663"
        ],
        [
         "15",
         "222.0",
         "1",
         "8542",
         "Conventional Hydroelectric",
         "7.93339151",
         "23.8",
         "0",
         "0",
         "11.5",
         "-7.9",
         "40.085476",
         "-121.148241"
        ],
        [
         "16",
         "222.0",
         "2",
         "8542",
         "Conventional Hydroelectric",
         "8.33339446",
         "25.0",
         "0",
         "0",
         "12.1",
         "-8.3",
         "40.085476",
         "-121.148241"
        ],
        [
         "17",
         "222.0",
         "3",
         "8542",
         "Conventional Hydroelectric",
         "8.33339446",
         "25.0",
         "0",
         "0",
         "12.1",
         "-8.3",
         "40.085476",
         "-121.148241"
        ],
        [
         "18",
         "223.0",
         "4",
         "8542",
         "Conventional Hydroelectric",
         "20.1001481",
         "60.3",
         "0",
         "0",
         "29.2",
         "-20.1",
         "40.085997",
         "-121.149373"
        ],
        [
         "19",
         "223.0",
         "5",
         "8542",
         "Conventional Hydroelectric",
         "19.2001415",
         "57.6",
         "0",
         "0",
         "27.9",
         "-19.2",
         "40.085997",
         "-121.149373"
        ],
        [
         "20",
         "227.0",
         "1",
         "1743",
         "Conventional Hydroelectric",
         "4.0333628",
         "12.1",
         "0",
         "0",
         "18.7771429",
         "-14.6707143",
         "40.404645",
         "-122.121904"
        ],
        [
         "21",
         "229.0",
         "1",
         "1735",
         "Conventional Hydroelectric",
         "0.233334754",
         "0.7",
         "0",
         "0",
         "18.7771429",
         "-14.6707143",
         "40.570817",
         "-122.02093"
        ],
        [
         "22",
         "229.0",
         "2",
         "1735",
         "Conventional Hydroelectric",
         "0.233334754",
         "0.7",
         "0",
         "0",
         "18.7771429",
         "-14.6707143",
         "40.570817",
         "-122.02093"
        ],
        [
         "23",
         "235.0",
         "1",
         "8578",
         "Conventional Hydroelectric",
         "4.00002922",
         "12.0",
         "0",
         "0",
         "5.95",
         "-4.1",
         "39.256873",
         "-120.767437"
        ],
        [
         "24",
         "235.0",
         "2",
         "8578",
         "Conventional Hydroelectric",
         "4.00002922",
         "12.0",
         "0",
         "0",
         "5.95",
         "-4.1",
         "39.256873",
         "-120.767437"
        ],
        [
         "25",
         "235.0",
         "3",
         "8578",
         "Conventional Hydroelectric",
         "4.00002922",
         "12.0",
         "0",
         "0",
         "5.95",
         "-4.1",
         "39.256873",
         "-120.767437"
        ],
        [
         "26",
         "235.0",
         "4",
         "8578",
         "Conventional Hydroelectric",
         "4.40003218",
         "13.2",
         "0",
         "0",
         "5.95",
         "-4.1",
         "39.256873",
         "-120.767437"
        ],
        [
         "27",
         "237.0",
         "1",
         "744",
         "Conventional Hydroelectric",
         "7.33338707",
         "22.0",
         "0",
         "0",
         "16.5",
         "-7.3",
         "39.216985",
         "-120.835587"
        ],
        [
         "28",
         "238.0",
         "1",
         "106",
         "Conventional Hydroelectric",
         "3.33335758",
         "10.0",
         "0",
         "0",
         "7.5",
         "-3.35",
         "38.793574",
         "-120.619152"
        ],
        [
         "29",
         "238.0",
         "2",
         "106",
         "Conventional Hydroelectric",
         "3.33335758",
         "10.0",
         "0",
         "0",
         "7.5",
         "-3.35",
         "38.793574",
         "-120.619152"
        ],
        [
         "30",
         "239.0",
         "1",
         "7778",
         "Conventional Hydroelectric",
         "10.7667458",
         "32.3",
         "0",
         "0",
         "15.6",
         "-10.8",
         "38.330985",
         "-120.669901"
        ],
        [
         "31",
         "239.0",
         "2",
         "7778",
         "Conventional Hydroelectric",
         "11.700086",
         "35.1",
         "0",
         "0",
         "17.0",
         "-11.7",
         "38.330985",
         "-120.669901"
        ],
        [
         "32",
         "239.0",
         "3",
         "7778",
         "Conventional Hydroelectric",
         "11.700086",
         "35.1",
         "0",
         "0",
         "17.0",
         "-11.7",
         "38.330985",
         "-120.669901"
        ],
        [
         "33",
         "240.0",
         "H1",
         "1634",
         "Conventional Hydroelectric",
         "22.5001659",
         "67.5",
         "0",
         "0",
         "32.7",
         "-22.5",
         "36.927424",
         "-119.02025"
        ],
        [
         "34",
         "240.0",
         "H2",
         "1634",
         "Conventional Hydroelectric",
         "22.5001659",
         "67.5",
         "0",
         "0",
         "32.7",
         "-22.5",
         "36.927424",
         "-119.02025"
        ],
        [
         "35",
         "241.0",
         "1",
         "749",
         "Conventional Hydroelectric",
         "4.53336649",
         "13.6",
         "0",
         "0",
         "18.7771429",
         "-14.6707143",
         "38.956985",
         "-121.041932"
        ],
        [
         "36",
         "242.0",
         "1",
         "339",
         "Conventional Hydroelectric",
         "0.86667277",
         "2.6",
         "0",
         "0",
         "18.7771429",
         "-14.6707143",
         "40.268712",
         "-121.089479"
        ],
        [
         "37",
         "242.0",
         "2",
         "339",
         "Conventional Hydroelectric",
         "0.900006343",
         "2.7",
         "0",
         "0",
         "18.7771429",
         "-14.6707143",
         "40.268712",
         "-121.089479"
        ],
        [
         "38",
         "243.0",
         "1",
         "1286",
         "Conventional Hydroelectric",
         "3.33335761",
         "10.0",
         "0",
         "0",
         "18.7771429",
         "-14.6707143",
         "40.929297",
         "-121.544462"
        ],
        [
         "39",
         "244.0",
         "1",
         "8427",
         "Conventional Hydroelectric",
         "3.33335761",
         "10.0",
         "0",
         "0",
         "18.7771429",
         "-14.6707143",
         "40.960675",
         "-121.548657"
        ],
        [
         "40",
         "246.0",
         "IC1",
         "170",
         "Natural Gas Internal Combustion Engine",
         "16.7001233",
         "16.7",
         "0",
         "0",
         "12.5222222",
         "-5.56666667",
         "40.7415",
         "-124.2103"
        ],
        [
         "41",
         "246.0",
         "IC10",
         "170",
         "Natural Gas Internal Combustion Engine",
         "16.7001233",
         "16.7",
         "0",
         "0",
         "12.5222222",
         "-5.56666667",
         "40.7415",
         "-124.2103"
        ],
        [
         "42",
         "246.0",
         "IC2",
         "170",
         "Natural Gas Internal Combustion Engine",
         "16.7001233",
         "16.7",
         "0",
         "0",
         "12.5222222",
         "-5.56666667",
         "40.7415",
         "-124.2103"
        ],
        [
         "43",
         "246.0",
         "IC3",
         "170",
         "Natural Gas Internal Combustion Engine",
         "16.7001233",
         "16.7",
         "0",
         "0",
         "12.5222222",
         "-5.56666667",
         "40.7415",
         "-124.2103"
        ],
        [
         "44",
         "246.0",
         "IC4",
         "170",
         "Natural Gas Internal Combustion Engine",
         "16.7001233",
         "16.7",
         "0",
         "0",
         "12.5222222",
         "-5.56666667",
         "40.7415",
         "-124.2103"
        ],
        [
         "45",
         "246.0",
         "IC5",
         "170",
         "Natural Gas Internal Combustion Engine",
         "16.7001233",
         "16.7",
         "0",
         "0",
         "12.5222222",
         "-5.56666667",
         "40.7415",
         "-124.2103"
        ],
        [
         "46",
         "246.0",
         "IC6",
         "170",
         "Natural Gas Internal Combustion Engine",
         "16.7001233",
         "16.7",
         "0",
         "0",
         "12.5222222",
         "-5.56666667",
         "40.7415",
         "-124.2103"
        ],
        [
         "47",
         "246.0",
         "IC7",
         "170",
         "Natural Gas Internal Combustion Engine",
         "16.7001233",
         "16.7",
         "0",
         "0",
         "12.5222222",
         "-5.56666667",
         "40.7415",
         "-124.2103"
        ],
        [
         "48",
         "246.0",
         "IC8",
         "170",
         "Natural Gas Internal Combustion Engine",
         "16.7001233",
         "16.7",
         "0",
         "0",
         "12.5222222",
         "-5.56666667",
         "40.7415",
         "-124.2103"
        ],
        [
         "49",
         "246.0",
         "IC9",
         "170",
         "Natural Gas Internal Combustion Engine",
         "16.7001233",
         "16.7",
         "0",
         "0",
         "12.5222222",
         "-5.56666667",
         "40.7415",
         "-124.2103"
        ]
       ],
       "shape": {
        "columns": 12,
        "rows": 3892
       }
      },
      "text/html": [
       "<div><style>\n",
       ".dataframe > thead > tr,\n",
       ".dataframe > tbody > tr {\n",
       "  text-align: right;\n",
       "  white-space: pre-wrap;\n",
       "}\n",
       "</style>\n",
       "<small>shape: (3_892, 12)</small><table border=\"1\" class=\"dataframe\"><thead><tr><th>PlantCode</th><th>GenID</th><th>bus</th><th>FuelType</th><th>Pg</th><th>Pmax</th><th>Pmin</th><th>Qg</th><th>Qmax</th><th>Qmin</th><th>Lat</th><th>Lon</th></tr><tr><td>i64</td><td>str</td><td>u32</td><td>str</td><td>f64</td><td>f64</td><td>i64</td><td>i64</td><td>f64</td><td>f64</td><td>f64</td><td>f64</td></tr></thead><tbody><tr><td>34</td><td>&quot;1P&quot;</td><td>745</td><td>&quot;Conventional Hydroelectric&quot;</td><td>4.0333628</td><td>12.1</td><td>0</td><td>0</td><td>18.777143</td><td>-14.670714</td><td>39.134259</td><td>-120.953341</td></tr><tr><td>151</td><td>&quot;1&quot;</td><td>1804</td><td>&quot;Petroleum Liquids&quot;</td><td>0.0</td><td>71.2</td><td>0</td><td>0</td><td>34.5</td><td>-23.7</td><td>37.62936</td><td>-120.93139</td></tr><tr><td>151</td><td>&quot;2&quot;</td><td>1804</td><td>&quot;Natural Gas Fired Combustion T…</td><td>0.0</td><td>71.2</td><td>0</td><td>0</td><td>34.5</td><td>-23.7</td><td>37.62936</td><td>-120.93139</td></tr><tr><td>161</td><td>&quot;1&quot;</td><td>1964</td><td>&quot;Conventional Hydroelectric&quot;</td><td>0.366669</td><td>1.1</td><td>0</td><td>0</td><td>18.777143</td><td>-14.670714</td><td>37.611461</td><td>-120.594678</td></tr><tr><td>161</td><td>&quot;2&quot;</td><td>1964</td><td>&quot;Conventional Hydroelectric&quot;</td><td>0.366669</td><td>1.1</td><td>0</td><td>0</td><td>18.777143</td><td>-14.670714</td><td>37.611461</td><td>-120.594678</td></tr><tr><td>&hellip;</td><td>&hellip;</td><td>&hellip;</td><td>&hellip;</td><td>&hellip;</td><td>&hellip;</td><td>&hellip;</td><td>&hellip;</td><td>&hellip;</td><td>&hellip;</td><td>&hellip;</td><td>&hellip;</td></tr><tr><td>null</td><td>null</td><td>8862</td><td>null</td><td>0.0</td><td>0.0</td><td>0</td><td>0</td><td>200.0</td><td>-200.0</td><td>null</td><td>null</td></tr><tr><td>null</td><td>null</td><td>8863</td><td>null</td><td>0.0</td><td>0.0</td><td>0</td><td>0</td><td>200.0</td><td>-200.0</td><td>null</td><td>null</td></tr><tr><td>null</td><td>null</td><td>8864</td><td>null</td><td>0.0</td><td>0.0</td><td>0</td><td>0</td><td>200.0</td><td>-200.0</td><td>null</td><td>null</td></tr><tr><td>null</td><td>null</td><td>8865</td><td>null</td><td>0.0</td><td>0.0</td><td>0</td><td>0</td><td>200.0</td><td>-200.0</td><td>null</td><td>null</td></tr><tr><td>null</td><td>null</td><td>8867</td><td>null</td><td>0.0</td><td>0.0</td><td>0</td><td>0</td><td>200.0</td><td>-200.0</td><td>null</td><td>null</td></tr></tbody></table></div>"
      ],
      "text/plain": [
       "shape: (3_892, 12)\n",
       "┌───────────┬───────┬──────┬────────────────┬───┬───────────┬────────────┬───────────┬─────────────┐\n",
       "│ PlantCode ┆ GenID ┆ bus  ┆ FuelType       ┆ … ┆ Qmax      ┆ Qmin       ┆ Lat       ┆ Lon         │\n",
       "│ ---       ┆ ---   ┆ ---  ┆ ---            ┆   ┆ ---       ┆ ---        ┆ ---       ┆ ---         │\n",
       "│ i64       ┆ str   ┆ u32  ┆ str            ┆   ┆ f64       ┆ f64        ┆ f64       ┆ f64         │\n",
       "╞═══════════╪═══════╪══════╪════════════════╪═══╪═══════════╪════════════╪═══════════╪═════════════╡\n",
       "│ 34        ┆ 1P    ┆ 745  ┆ Conventional   ┆ … ┆ 18.777143 ┆ -14.670714 ┆ 39.134259 ┆ -120.953341 │\n",
       "│           ┆       ┆      ┆ Hydroelectric  ┆   ┆           ┆            ┆           ┆             │\n",
       "│ 151       ┆ 1     ┆ 1804 ┆ Petroleum      ┆ … ┆ 34.5      ┆ -23.7      ┆ 37.62936  ┆ -120.93139  │\n",
       "│           ┆       ┆      ┆ Liquids        ┆   ┆           ┆            ┆           ┆             │\n",
       "│ 151       ┆ 2     ┆ 1804 ┆ Natural Gas    ┆ … ┆ 34.5      ┆ -23.7      ┆ 37.62936  ┆ -120.93139  │\n",
       "│           ┆       ┆      ┆ Fired          ┆   ┆           ┆            ┆           ┆             │\n",
       "│           ┆       ┆      ┆ Combustion T…  ┆   ┆           ┆            ┆           ┆             │\n",
       "│ 161       ┆ 1     ┆ 1964 ┆ Conventional   ┆ … ┆ 18.777143 ┆ -14.670714 ┆ 37.611461 ┆ -120.594678 │\n",
       "│           ┆       ┆      ┆ Hydroelectric  ┆   ┆           ┆            ┆           ┆             │\n",
       "│ 161       ┆ 2     ┆ 1964 ┆ Conventional   ┆ … ┆ 18.777143 ┆ -14.670714 ┆ 37.611461 ┆ -120.594678 │\n",
       "│           ┆       ┆      ┆ Hydroelectric  ┆   ┆           ┆            ┆           ┆             │\n",
       "│ …         ┆ …     ┆ …    ┆ …              ┆ … ┆ …         ┆ …          ┆ …         ┆ …           │\n",
       "│ null      ┆ null  ┆ 8862 ┆ null           ┆ … ┆ 200.0     ┆ -200.0     ┆ null      ┆ null        │\n",
       "│ null      ┆ null  ┆ 8863 ┆ null           ┆ … ┆ 200.0     ┆ -200.0     ┆ null      ┆ null        │\n",
       "│ null      ┆ null  ┆ 8864 ┆ null           ┆ … ┆ 200.0     ┆ -200.0     ┆ null      ┆ null        │\n",
       "│ null      ┆ null  ┆ 8865 ┆ null           ┆ … ┆ 200.0     ┆ -200.0     ┆ null      ┆ null        │\n",
       "│ null      ┆ null  ┆ 8867 ┆ null           ┆ … ┆ 200.0     ┆ -200.0     ┆ null      ┆ null        │\n",
       "└───────────┴───────┴──────┴────────────────┴───┴───────────┴────────────┴───────────┴─────────────┘"
      ]
     },
     "execution_count": 2,
     "metadata": {},
     "output_type": "execute_result"
    }
   ],
   "source": [
    "# file has whitespaces that we must strip\n",
    "df = pl.read_csv(snakemake.input[0], encoding=\"iso-8859-1\")\n",
    "df.columns = [c.strip() for c in df.columns]\n",
    "df = df.with_columns(\n",
    "    pl.col(\n",
    "        c for c, t in zip(df.columns, df.dtypes) if (t == pl.String)\n",
    "    ).str.strip_chars()\n",
    ")\n",
    "# now that they're removed we can convert to numbers\n",
    "df = df.with_columns(\n",
    "    pl.col(\"PlantCode\").cast(pl.Int64),\n",
    "    pl.col(\"Lat\").cast(pl.Float64),\n",
    "    pl.col(\"Lon\").cast(pl.Float64),\n",
    "    pl.col(\"bus\").cast(pl.UInt32),\n",
    ")\n",
    "df"
   ]
  },
  {
   "cell_type": "code",
   "execution_count": 3,
   "id": "f66cc3f5",
   "metadata": {},
   "outputs": [
    {
     "data": {
      "application/vnd.microsoft.datawrangler.viewer.v0+json": {
       "columns": [
        {
         "name": "index",
         "rawType": "int64",
         "type": "integer"
        },
        {
         "name": "PlantCode",
         "rawType": "int64",
         "type": "integer"
        },
        {
         "name": "GenID",
         "rawType": "object",
         "type": "string"
        },
        {
         "name": "bus",
         "rawType": "uint32",
         "type": "integer"
        },
        {
         "name": "FuelType",
         "rawType": "object",
         "type": "string"
        },
        {
         "name": "Pg",
         "rawType": "float64",
         "type": "float"
        },
        {
         "name": "Pmax",
         "rawType": "float64",
         "type": "float"
        },
        {
         "name": "Lat",
         "rawType": "float64",
         "type": "float"
        },
        {
         "name": "Lon",
         "rawType": "float64",
         "type": "float"
        }
       ],
       "ref": "88d1300c-20d0-4a63-b71f-95100b897dfd",
       "rows": [
        [
         "0",
         "34",
         "1P",
         "745",
         "Conventional Hydroelectric",
         "4.0333628",
         "12.1",
         "39.134259",
         "-120.953341"
        ],
        [
         "1",
         "151",
         "1",
         "1804",
         "Petroleum Liquids",
         "0.0",
         "71.2",
         "37.62936",
         "-120.93139"
        ],
        [
         "2",
         "151",
         "2",
         "1804",
         "Natural Gas Fired Combustion Turbine",
         "0.0",
         "71.2",
         "37.62936",
         "-120.93139"
        ],
        [
         "3",
         "161",
         "1",
         "1964",
         "Conventional Hydroelectric",
         "0.366669117",
         "1.1",
         "37.611461",
         "-120.594678"
        ],
        [
         "4",
         "161",
         "2",
         "1964",
         "Conventional Hydroelectric",
         "0.366669117",
         "1.1",
         "37.611461",
         "-120.594678"
        ],
        [
         "5",
         "161",
         "3",
         "1964",
         "Conventional Hydroelectric",
         "0.366669117",
         "1.1",
         "37.611461",
         "-120.594678"
        ],
        [
         "6",
         "162",
         "1",
         "1360",
         "Conventional Hydroelectric",
         "0.166667613",
         "0.5",
         "37.621536",
         "-120.746247"
        ],
        [
         "7",
         "162",
         "2",
         "1360",
         "Conventional Hydroelectric",
         "0.166667613",
         "0.5",
         "37.621536",
         "-120.746247"
        ],
        [
         "8",
         "180",
         "1",
         "1745",
         "Conventional Hydroelectric",
         "0.333335524",
         "1.0",
         "40.45193",
         "-121.86215"
        ],
        [
         "9",
         "214",
         "1",
         "744",
         "Conventional Hydroelectric",
         "0.333335524",
         "1.0",
         "39.215979",
         "-120.80355"
        ],
        [
         "10",
         "215",
         "1",
         "1587",
         "Conventional Hydroelectric",
         "0.466669881",
         "1.4",
         "38.071944",
         "-120.539444"
        ],
        [
         "11",
         "219",
         "1",
         "8022",
         "Conventional Hydroelectric",
         "39.30029",
         "117.9",
         "40.007445",
         "-121.249438"
        ],
        [
         "12",
         "220",
         "H1",
         "2220",
         "Conventional Hydroelectric",
         "11.0000809",
         "33.0",
         "39.91062",
         "-121.327692"
        ],
        [
         "13",
         "220",
         "H2",
         "2220",
         "Conventional Hydroelectric",
         "11.0000809",
         "33.0",
         "39.91062",
         "-121.327692"
        ],
        [
         "14",
         "221",
         "1",
         "1748",
         "Conventional Hydroelectric",
         "13.3334314",
         "40.0",
         "40.175656",
         "-121.190663"
        ],
        [
         "15",
         "222",
         "1",
         "8542",
         "Conventional Hydroelectric",
         "7.93339151",
         "23.8",
         "40.085476",
         "-121.148241"
        ],
        [
         "16",
         "222",
         "2",
         "8542",
         "Conventional Hydroelectric",
         "8.33339446",
         "25.0",
         "40.085476",
         "-121.148241"
        ],
        [
         "17",
         "222",
         "3",
         "8542",
         "Conventional Hydroelectric",
         "8.33339446",
         "25.0",
         "40.085476",
         "-121.148241"
        ],
        [
         "18",
         "223",
         "4",
         "8542",
         "Conventional Hydroelectric",
         "20.1001481",
         "60.3",
         "40.085997",
         "-121.149373"
        ],
        [
         "19",
         "223",
         "5",
         "8542",
         "Conventional Hydroelectric",
         "19.2001415",
         "57.6",
         "40.085997",
         "-121.149373"
        ],
        [
         "20",
         "227",
         "1",
         "1743",
         "Conventional Hydroelectric",
         "4.0333628",
         "12.1",
         "40.404645",
         "-122.121904"
        ],
        [
         "21",
         "229",
         "1",
         "1735",
         "Conventional Hydroelectric",
         "0.233334754",
         "0.7",
         "40.570817",
         "-122.02093"
        ],
        [
         "22",
         "229",
         "2",
         "1735",
         "Conventional Hydroelectric",
         "0.233334754",
         "0.7",
         "40.570817",
         "-122.02093"
        ],
        [
         "23",
         "235",
         "1",
         "8578",
         "Conventional Hydroelectric",
         "4.00002922",
         "12.0",
         "39.256873",
         "-120.767437"
        ],
        [
         "24",
         "235",
         "2",
         "8578",
         "Conventional Hydroelectric",
         "4.00002922",
         "12.0",
         "39.256873",
         "-120.767437"
        ],
        [
         "25",
         "235",
         "3",
         "8578",
         "Conventional Hydroelectric",
         "4.00002922",
         "12.0",
         "39.256873",
         "-120.767437"
        ],
        [
         "26",
         "235",
         "4",
         "8578",
         "Conventional Hydroelectric",
         "4.40003218",
         "13.2",
         "39.256873",
         "-120.767437"
        ],
        [
         "27",
         "237",
         "1",
         "744",
         "Conventional Hydroelectric",
         "7.33338707",
         "22.0",
         "39.216985",
         "-120.835587"
        ],
        [
         "28",
         "238",
         "1",
         "106",
         "Conventional Hydroelectric",
         "3.33335758",
         "10.0",
         "38.793574",
         "-120.619152"
        ],
        [
         "29",
         "238",
         "2",
         "106",
         "Conventional Hydroelectric",
         "3.33335758",
         "10.0",
         "38.793574",
         "-120.619152"
        ],
        [
         "30",
         "239",
         "1",
         "7778",
         "Conventional Hydroelectric",
         "10.7667458",
         "32.3",
         "38.330985",
         "-120.669901"
        ],
        [
         "31",
         "239",
         "2",
         "7778",
         "Conventional Hydroelectric",
         "11.700086",
         "35.1",
         "38.330985",
         "-120.669901"
        ],
        [
         "32",
         "239",
         "3",
         "7778",
         "Conventional Hydroelectric",
         "11.700086",
         "35.1",
         "38.330985",
         "-120.669901"
        ],
        [
         "33",
         "240",
         "H1",
         "1634",
         "Conventional Hydroelectric",
         "22.5001659",
         "67.5",
         "36.927424",
         "-119.02025"
        ],
        [
         "34",
         "240",
         "H2",
         "1634",
         "Conventional Hydroelectric",
         "22.5001659",
         "67.5",
         "36.927424",
         "-119.02025"
        ],
        [
         "35",
         "241",
         "1",
         "749",
         "Conventional Hydroelectric",
         "4.53336649",
         "13.6",
         "38.956985",
         "-121.041932"
        ],
        [
         "36",
         "242",
         "1",
         "339",
         "Conventional Hydroelectric",
         "0.86667277",
         "2.6",
         "40.268712",
         "-121.089479"
        ],
        [
         "37",
         "242",
         "2",
         "339",
         "Conventional Hydroelectric",
         "0.900006343",
         "2.7",
         "40.268712",
         "-121.089479"
        ],
        [
         "38",
         "243",
         "1",
         "1286",
         "Conventional Hydroelectric",
         "3.33335761",
         "10.0",
         "40.929297",
         "-121.544462"
        ],
        [
         "39",
         "244",
         "1",
         "8427",
         "Conventional Hydroelectric",
         "3.33335761",
         "10.0",
         "40.960675",
         "-121.548657"
        ],
        [
         "40",
         "246",
         "IC1",
         "170",
         "Natural Gas Internal Combustion Engine",
         "16.7001233",
         "16.7",
         "40.7415",
         "-124.2103"
        ],
        [
         "41",
         "246",
         "IC10",
         "170",
         "Natural Gas Internal Combustion Engine",
         "16.7001233",
         "16.7",
         "40.7415",
         "-124.2103"
        ],
        [
         "42",
         "246",
         "IC2",
         "170",
         "Natural Gas Internal Combustion Engine",
         "16.7001233",
         "16.7",
         "40.7415",
         "-124.2103"
        ],
        [
         "43",
         "246",
         "IC3",
         "170",
         "Natural Gas Internal Combustion Engine",
         "16.7001233",
         "16.7",
         "40.7415",
         "-124.2103"
        ],
        [
         "44",
         "246",
         "IC4",
         "170",
         "Natural Gas Internal Combustion Engine",
         "16.7001233",
         "16.7",
         "40.7415",
         "-124.2103"
        ],
        [
         "45",
         "246",
         "IC5",
         "170",
         "Natural Gas Internal Combustion Engine",
         "16.7001233",
         "16.7",
         "40.7415",
         "-124.2103"
        ],
        [
         "46",
         "246",
         "IC6",
         "170",
         "Natural Gas Internal Combustion Engine",
         "16.7001233",
         "16.7",
         "40.7415",
         "-124.2103"
        ],
        [
         "47",
         "246",
         "IC7",
         "170",
         "Natural Gas Internal Combustion Engine",
         "16.7001233",
         "16.7",
         "40.7415",
         "-124.2103"
        ],
        [
         "48",
         "246",
         "IC8",
         "170",
         "Natural Gas Internal Combustion Engine",
         "16.7001233",
         "16.7",
         "40.7415",
         "-124.2103"
        ],
        [
         "49",
         "246",
         "IC9",
         "170",
         "Natural Gas Internal Combustion Engine",
         "16.7001233",
         "16.7",
         "40.7415",
         "-124.2103"
        ]
       ],
       "shape": {
        "columns": 8,
        "rows": 2149
       }
      },
      "text/html": [
       "<div><style>\n",
       ".dataframe > thead > tr,\n",
       ".dataframe > tbody > tr {\n",
       "  text-align: right;\n",
       "  white-space: pre-wrap;\n",
       "}\n",
       "</style>\n",
       "<small>shape: (2_149, 8)</small><table border=\"1\" class=\"dataframe\"><thead><tr><th>PlantCode</th><th>GenID</th><th>bus</th><th>FuelType</th><th>Pg</th><th>Pmax</th><th>Lat</th><th>Lon</th></tr><tr><td>i64</td><td>str</td><td>u32</td><td>str</td><td>f64</td><td>f64</td><td>f64</td><td>f64</td></tr></thead><tbody><tr><td>34</td><td>&quot;1P&quot;</td><td>745</td><td>&quot;Conventional Hydroelectric&quot;</td><td>4.0333628</td><td>12.1</td><td>39.134259</td><td>-120.953341</td></tr><tr><td>151</td><td>&quot;1&quot;</td><td>1804</td><td>&quot;Petroleum Liquids&quot;</td><td>0.0</td><td>71.2</td><td>37.62936</td><td>-120.93139</td></tr><tr><td>151</td><td>&quot;2&quot;</td><td>1804</td><td>&quot;Natural Gas Fired Combustion T…</td><td>0.0</td><td>71.2</td><td>37.62936</td><td>-120.93139</td></tr><tr><td>161</td><td>&quot;1&quot;</td><td>1964</td><td>&quot;Conventional Hydroelectric&quot;</td><td>0.366669</td><td>1.1</td><td>37.611461</td><td>-120.594678</td></tr><tr><td>161</td><td>&quot;2&quot;</td><td>1964</td><td>&quot;Conventional Hydroelectric&quot;</td><td>0.366669</td><td>1.1</td><td>37.611461</td><td>-120.594678</td></tr><tr><td>&hellip;</td><td>&hellip;</td><td>&hellip;</td><td>&hellip;</td><td>&hellip;</td><td>&hellip;</td><td>&hellip;</td><td>&hellip;</td></tr><tr><td>0</td><td>&quot;0&quot;</td><td>7583</td><td>&quot;IMPORT&quot;</td><td>0.0</td><td>200.0</td><td>34.288557</td><td>-114.103924</td></tr><tr><td>0</td><td>&quot;0&quot;</td><td>7604</td><td>&quot;IMPORT&quot;</td><td>0.0</td><td>200.0</td><td>34.086702</td><td>-113.914313</td></tr><tr><td>0</td><td>&quot;0&quot;</td><td>1293</td><td>&quot;IMPORT&quot;</td><td>0.0</td><td>200.0</td><td>39.52124</td><td>-120.008658</td></tr><tr><td>0</td><td>&quot;0&quot;</td><td>1898</td><td>&quot;IMPORT&quot;</td><td>0.0</td><td>200.0</td><td>42.079884</td><td>-121.390208</td></tr><tr><td>0</td><td>&quot;0&quot;</td><td>2261</td><td>&quot;IMPORT&quot;</td><td>0.0</td><td>200.0</td><td>34.315146</td><td>-114.1577</td></tr></tbody></table></div>"
      ],
      "text/plain": [
       "shape: (2_149, 8)\n",
       "┌───────────┬───────┬──────┬───────────────────┬───────────┬───────┬───────────┬─────────────┐\n",
       "│ PlantCode ┆ GenID ┆ bus  ┆ FuelType          ┆ Pg        ┆ Pmax  ┆ Lat       ┆ Lon         │\n",
       "│ ---       ┆ ---   ┆ ---  ┆ ---               ┆ ---       ┆ ---   ┆ ---       ┆ ---         │\n",
       "│ i64       ┆ str   ┆ u32  ┆ str               ┆ f64       ┆ f64   ┆ f64       ┆ f64         │\n",
       "╞═══════════╪═══════╪══════╪═══════════════════╪═══════════╪═══════╪═══════════╪═════════════╡\n",
       "│ 34        ┆ 1P    ┆ 745  ┆ Conventional      ┆ 4.0333628 ┆ 12.1  ┆ 39.134259 ┆ -120.953341 │\n",
       "│           ┆       ┆      ┆ Hydroelectric     ┆           ┆       ┆           ┆             │\n",
       "│ 151       ┆ 1     ┆ 1804 ┆ Petroleum Liquids ┆ 0.0       ┆ 71.2  ┆ 37.62936  ┆ -120.93139  │\n",
       "│ 151       ┆ 2     ┆ 1804 ┆ Natural Gas Fired ┆ 0.0       ┆ 71.2  ┆ 37.62936  ┆ -120.93139  │\n",
       "│           ┆       ┆      ┆ Combustion T…     ┆           ┆       ┆           ┆             │\n",
       "│ 161       ┆ 1     ┆ 1964 ┆ Conventional      ┆ 0.366669  ┆ 1.1   ┆ 37.611461 ┆ -120.594678 │\n",
       "│           ┆       ┆      ┆ Hydroelectric     ┆           ┆       ┆           ┆             │\n",
       "│ 161       ┆ 2     ┆ 1964 ┆ Conventional      ┆ 0.366669  ┆ 1.1   ┆ 37.611461 ┆ -120.594678 │\n",
       "│           ┆       ┆      ┆ Hydroelectric     ┆           ┆       ┆           ┆             │\n",
       "│ …         ┆ …     ┆ …    ┆ …                 ┆ …         ┆ …     ┆ …         ┆ …           │\n",
       "│ 0         ┆ 0     ┆ 7583 ┆ IMPORT            ┆ 0.0       ┆ 200.0 ┆ 34.288557 ┆ -114.103924 │\n",
       "│ 0         ┆ 0     ┆ 7604 ┆ IMPORT            ┆ 0.0       ┆ 200.0 ┆ 34.086702 ┆ -113.914313 │\n",
       "│ 0         ┆ 0     ┆ 1293 ┆ IMPORT            ┆ 0.0       ┆ 200.0 ┆ 39.52124  ┆ -120.008658 │\n",
       "│ 0         ┆ 0     ┆ 1898 ┆ IMPORT            ┆ 0.0       ┆ 200.0 ┆ 42.079884 ┆ -121.390208 │\n",
       "│ 0         ┆ 0     ┆ 2261 ┆ IMPORT            ┆ 0.0       ┆ 200.0 ┆ 34.315146 ┆ -114.1577   │\n",
       "└───────────┴───────┴──────┴───────────────────┴───────────┴───────┴───────────┴─────────────┘"
      ]
     },
     "execution_count": 3,
     "metadata": {},
     "output_type": "execute_result"
    }
   ],
   "source": [
    "# remove reactive elements\n",
    "assert (df.get_column(\"Pmin\") == 0).all()\n",
    "df2 = df.drop(\"Pmin\")\n",
    "reactive_elements = df2.filter(pl.col(\"Pmax\") == 0)\n",
    "assert (\n",
    "    reactive_elements[\"FuelType\"].is_null().all()\n",
    "    and (reactive_elements[\"Qmax\"] != 0).all()\n",
    "), \"Expected reactive elements to have Pmax == 0 and Qmax != 0\"\n",
    "df2 = df2.filter(pl.col(\"Pmax\") > 0).drop(\"Qmax\", \"Qmin\", \"Qg\")\n",
    "df2"
   ]
  },
  {
   "cell_type": "code",
   "execution_count": 4,
   "id": "66b1aee3",
   "metadata": {},
   "outputs": [
    {
     "data": {
      "application/vnd.microsoft.datawrangler.viewer.v0+json": {
       "columns": [
        {
         "name": "index",
         "rawType": "int64",
         "type": "integer"
        },
        {
         "name": "FuelType",
         "rawType": "object",
         "type": "string"
        },
        {
         "name": "Pmax",
         "rawType": "float64",
         "type": "float"
        }
       ],
       "ref": "86ecbf5d-8fa4-4177-b30a-a20b6c35d429",
       "rows": [
        [
         "0",
         "Natural Gas Fired Combined Cycle",
         "19649.3"
        ],
        [
         "1",
         "Solar Photovoltaic",
         "11639.39867271001"
        ],
        [
         "2",
         "Natural Gas Fired Combustion Turbine",
         "10893.400000000001"
        ],
        [
         "3",
         "Conventional Hydroelectric",
         "7923.000000000005"
        ],
        [
         "4",
         "Onshore Wind Turbine",
         "5303.0"
        ],
        [
         "5",
         "IMPORT",
         "5200.0"
        ],
        [
         "6",
         "Natural Gas Steam Turbine",
         "4744.799999999999"
        ],
        [
         "7",
         "Nuclear",
         "2323.0"
        ],
        [
         "8",
         "Solar Thermal without Energy Storage",
         "1156.00132935"
        ],
        [
         "9",
         "Geothermal",
         "1095.2"
        ],
        [
         "10",
         "Hydroelectric Pumped Storage",
         "759.1"
        ],
        [
         "11",
         "Wood/Wood Waste Biomass",
         "504.8"
        ],
        [
         "12",
         "Petroleum Liquids",
         "369.09999999999997"
        ],
        [
         "13",
         "Natural Gas Internal Combustion Engine",
         "325.59999999999997"
        ],
        [
         "14",
         "Landfill Gas",
         "278.6000000000001"
        ],
        [
         "15",
         "Other Gases",
         "258.1"
        ],
        [
         "16",
         "Batteries",
         "229.5"
        ],
        [
         "17",
         "Other Waste Biomass",
         "168.59999999999997"
        ],
        [
         "18",
         "Other Natural Gas",
         "131.7"
        ],
        [
         "19",
         "All Other",
         "113.69999999999999"
        ],
        [
         "20",
         "Conventional Steam Coal",
         "55.0"
        ],
        [
         "21",
         "Petroleum Coke",
         "27.3"
        ],
        [
         "22",
         "Municipal Solid Waste",
         "24.0"
        ]
       ],
       "shape": {
        "columns": 2,
        "rows": 23
       }
      },
      "text/html": [
       "<div><style>\n",
       ".dataframe > thead > tr,\n",
       ".dataframe > tbody > tr {\n",
       "  text-align: right;\n",
       "  white-space: pre-wrap;\n",
       "}\n",
       "</style>\n",
       "<small>shape: (23, 2)</small><table border=\"1\" class=\"dataframe\"><thead><tr><th>FuelType</th><th>Pmax</th></tr><tr><td>str</td><td>f64</td></tr></thead><tbody><tr><td>&quot;Natural Gas Fired Combined Cyc…</td><td>19649.3</td></tr><tr><td>&quot;Solar Photovoltaic&quot;</td><td>11639.398673</td></tr><tr><td>&quot;Natural Gas Fired Combustion T…</td><td>10893.4</td></tr><tr><td>&quot;Conventional Hydroelectric&quot;</td><td>7923.0</td></tr><tr><td>&quot;Onshore Wind Turbine&quot;</td><td>5303.0</td></tr><tr><td>&hellip;</td><td>&hellip;</td></tr><tr><td>&quot;Other Natural Gas&quot;</td><td>131.7</td></tr><tr><td>&quot;All Other&quot;</td><td>113.7</td></tr><tr><td>&quot;Conventional Steam Coal&quot;</td><td>55.0</td></tr><tr><td>&quot;Petroleum Coke&quot;</td><td>27.3</td></tr><tr><td>&quot;Municipal Solid Waste&quot;</td><td>24.0</td></tr></tbody></table></div>"
      ],
      "text/plain": [
       "shape: (23, 2)\n",
       "┌─────────────────────────────────┬──────────────┐\n",
       "│ FuelType                        ┆ Pmax         │\n",
       "│ ---                             ┆ ---          │\n",
       "│ str                             ┆ f64          │\n",
       "╞═════════════════════════════════╪══════════════╡\n",
       "│ Natural Gas Fired Combined Cyc… ┆ 19649.3      │\n",
       "│ Solar Photovoltaic              ┆ 11639.398673 │\n",
       "│ Natural Gas Fired Combustion T… ┆ 10893.4      │\n",
       "│ Conventional Hydroelectric      ┆ 7923.0       │\n",
       "│ Onshore Wind Turbine            ┆ 5303.0       │\n",
       "│ …                               ┆ …            │\n",
       "│ Other Natural Gas               ┆ 131.7        │\n",
       "│ All Other                       ┆ 113.7        │\n",
       "│ Conventional Steam Coal         ┆ 55.0         │\n",
       "│ Petroleum Coke                  ┆ 27.3         │\n",
       "│ Municipal Solid Waste           ┆ 24.0         │\n",
       "└─────────────────────────────────┴──────────────┘"
      ]
     },
     "execution_count": 4,
     "metadata": {},
     "output_type": "execute_result"
    }
   ],
   "source": [
    "df2.select(\"FuelType\", \"Pmax\").group_by(\"FuelType\").sum().sort(\"Pmax\", descending=True)"
   ]
  },
  {
   "cell_type": "code",
   "execution_count": 5,
   "id": "a5816b2b",
   "metadata": {},
   "outputs": [
    {
     "name": "stderr",
     "output_type": "stream",
     "text": [
      "<sys>:0: MapWithoutReturnDtypeWarning: Calling `map_elements` without specifying `return_dtype` can lead to unpredictable results. Specify `return_dtype` to silence this warning.\n"
     ]
    },
    {
     "data": {
      "application/vnd.microsoft.datawrangler.viewer.v0+json": {
       "columns": [
        {
         "name": "index",
         "rawType": "int64",
         "type": "integer"
        },
        {
         "name": "type",
         "rawType": "object",
         "type": "string"
        },
        {
         "name": "Pmax",
         "rawType": "float64",
         "type": "float"
        }
       ],
       "ref": "a0dc83a0-c540-4ea2-94c7-e00dbef7dd4d",
       "rows": [
        [
         "0",
         "thermal",
         "36756.899999999994"
        ],
        [
         "1",
         "solar",
         "12795.400002060007"
        ],
        [
         "2",
         "hydro",
         "7923.000000000005"
        ],
        [
         "3",
         "wind",
         "5303.0"
        ],
        [
         "4",
         "import",
         "5200.0"
        ],
        [
         "5",
         "nuclear",
         "2323.0"
        ],
        [
         "6",
         "other renewables",
         "1768.6000000000001"
        ],
        [
         "7",
         "hydroelectric pumped storage",
         "759.1"
        ],
        [
         "8",
         "batteries",
         "229.5"
        ],
        [
         "9",
         "all other",
         "113.69999999999999"
        ]
       ],
       "shape": {
        "columns": 2,
        "rows": 10
       }
      },
      "text/html": [
       "<div><style>\n",
       ".dataframe > thead > tr,\n",
       ".dataframe > tbody > tr {\n",
       "  text-align: right;\n",
       "  white-space: pre-wrap;\n",
       "}\n",
       "</style>\n",
       "<small>shape: (10, 2)</small><table border=\"1\" class=\"dataframe\"><thead><tr><th>type</th><th>Pmax</th></tr><tr><td>str</td><td>f64</td></tr></thead><tbody><tr><td>&quot;thermal&quot;</td><td>36756.9</td></tr><tr><td>&quot;solar&quot;</td><td>12795.400002</td></tr><tr><td>&quot;hydro&quot;</td><td>7923.0</td></tr><tr><td>&quot;wind&quot;</td><td>5303.0</td></tr><tr><td>&quot;import&quot;</td><td>5200.0</td></tr><tr><td>&quot;nuclear&quot;</td><td>2323.0</td></tr><tr><td>&quot;other renewables&quot;</td><td>1768.6</td></tr><tr><td>&quot;hydroelectric pumped storage&quot;</td><td>759.1</td></tr><tr><td>&quot;batteries&quot;</td><td>229.5</td></tr><tr><td>&quot;all other&quot;</td><td>113.7</td></tr></tbody></table></div>"
      ],
      "text/plain": [
       "shape: (10, 2)\n",
       "┌──────────────────────────────┬──────────────┐\n",
       "│ type                         ┆ Pmax         │\n",
       "│ ---                          ┆ ---          │\n",
       "│ str                          ┆ f64          │\n",
       "╞══════════════════════════════╪══════════════╡\n",
       "│ thermal                      ┆ 36756.9      │\n",
       "│ solar                        ┆ 12795.400002 │\n",
       "│ hydro                        ┆ 7923.0       │\n",
       "│ wind                         ┆ 5303.0       │\n",
       "│ import                       ┆ 5200.0       │\n",
       "│ nuclear                      ┆ 2323.0       │\n",
       "│ other renewables             ┆ 1768.6       │\n",
       "│ hydroelectric pumped storage ┆ 759.1        │\n",
       "│ batteries                    ┆ 229.5        │\n",
       "│ all other                    ┆ 113.7        │\n",
       "└──────────────────────────────┴──────────────┘"
      ]
     },
     "execution_count": 5,
     "metadata": {},
     "output_type": "execute_result"
    }
   ],
   "source": [
    "thermal_fuels = [\"coal\", \"gas\", \"petroleum\", \"municipal solid waste\"]\n",
    "df3 = df2.with_columns(\n",
    "    pl.col(\"FuelType\")\n",
    "    .str.to_lowercase()\n",
    "    .map_elements(lambda x: \"thermal\" if any(f in x for f in thermal_fuels) else x)\n",
    "    .replace(\n",
    "        {\n",
    "            \"wood/wood waste biomass\": \"other renewables\",\n",
    "            \"geothermal\": \"other renewables\",\n",
    "            \"other waste biomass\": \"other renewables\",\n",
    "            \"solar photovoltaic\": \"solar\",\n",
    "            \"solar thermal without energy storage\": \"solar\",\n",
    "            \"conventional hydroelectric\": \"hydro\",\n",
    "            \"onshore wind turbine\": \"wind\",\n",
    "        }\n",
    "    )\n",
    ").rename({\"FuelType\": \"type\"})\n",
    "df3.select(\"type\", \"Pmax\").group_by(\"type\").sum().sort(\"Pmax\", descending=True)"
   ]
  },
  {
   "cell_type": "code",
   "execution_count": 6,
   "id": "95a64809",
   "metadata": {},
   "outputs": [
    {
     "data": {
      "application/vnd.microsoft.datawrangler.viewer.v0+json": {
       "columns": [
        {
         "name": "index",
         "rawType": "int64",
         "type": "integer"
        },
        {
         "name": "type",
         "rawType": "object",
         "type": "string"
        },
        {
         "name": "Pmax",
         "rawType": "float64",
         "type": "float"
        }
       ],
       "ref": "575fce14-0ded-469b-aae8-6624dd5e97bd",
       "rows": [
        [
         "0",
         "thermal",
         "36756.899999999994"
        ],
        [
         "1",
         "solar",
         "12795.400002060007"
        ],
        [
         "2",
         "hydro",
         "7923.000000000005"
        ],
        [
         "3",
         "wind",
         "5303.0"
        ],
        [
         "4",
         "import",
         "5200.0"
        ],
        [
         "5",
         "nuclear",
         "2323.0"
        ],
        [
         "6",
         "other renewables",
         "1768.6000000000001"
        ]
       ],
       "shape": {
        "columns": 2,
        "rows": 7
       }
      },
      "text/html": [
       "<div><style>\n",
       ".dataframe > thead > tr,\n",
       ".dataframe > tbody > tr {\n",
       "  text-align: right;\n",
       "  white-space: pre-wrap;\n",
       "}\n",
       "</style>\n",
       "<small>shape: (7, 2)</small><table border=\"1\" class=\"dataframe\"><thead><tr><th>type</th><th>Pmax</th></tr><tr><td>str</td><td>f64</td></tr></thead><tbody><tr><td>&quot;thermal&quot;</td><td>36756.9</td></tr><tr><td>&quot;solar&quot;</td><td>12795.400002</td></tr><tr><td>&quot;hydro&quot;</td><td>7923.0</td></tr><tr><td>&quot;wind&quot;</td><td>5303.0</td></tr><tr><td>&quot;import&quot;</td><td>5200.0</td></tr><tr><td>&quot;nuclear&quot;</td><td>2323.0</td></tr><tr><td>&quot;other renewables&quot;</td><td>1768.6</td></tr></tbody></table></div>"
      ],
      "text/plain": [
       "shape: (7, 2)\n",
       "┌──────────────────┬──────────────┐\n",
       "│ type             ┆ Pmax         │\n",
       "│ ---              ┆ ---          │\n",
       "│ str              ┆ f64          │\n",
       "╞══════════════════╪══════════════╡\n",
       "│ thermal          ┆ 36756.9      │\n",
       "│ solar            ┆ 12795.400002 │\n",
       "│ hydro            ┆ 7923.0       │\n",
       "│ wind             ┆ 5303.0       │\n",
       "│ import           ┆ 5200.0       │\n",
       "│ nuclear          ┆ 2323.0       │\n",
       "│ other renewables ┆ 1768.6       │\n",
       "└──────────────────┴──────────────┘"
      ]
     },
     "execution_count": 6,
     "metadata": {},
     "output_type": "execute_result"
    }
   ],
   "source": [
    "# Remove storage to simplify model and 'all other' since it's negligible\n",
    "df4 = df3.filter(\n",
    "    ~pl.col(\"type\").is_in([\"batteries\", \"all other\", \"hydroelectric pumped storage\"])\n",
    ")\n",
    "df4.select(\"type\", \"Pmax\").group_by(\"type\").sum().sort(\"Pmax\", descending=True)"
   ]
  },
  {
   "cell_type": "code",
   "execution_count": 7,
   "id": "e3336d7d",
   "metadata": {},
   "outputs": [
    {
     "data": {
      "application/vnd.microsoft.datawrangler.viewer.v0+json": {
       "columns": [
        {
         "name": "index",
         "rawType": "int64",
         "type": "integer"
        },
        {
         "name": "PlantCode",
         "rawType": "int64",
         "type": "integer"
        },
        {
         "name": "GenID",
         "rawType": "object",
         "type": "string"
        },
        {
         "name": "bus",
         "rawType": "uint32",
         "type": "integer"
        },
        {
         "name": "type",
         "rawType": "object",
         "type": "string"
        },
        {
         "name": "Pg",
         "rawType": "float64",
         "type": "float"
        },
        {
         "name": "Pmax",
         "rawType": "float64",
         "type": "float"
        },
        {
         "name": "Lat",
         "rawType": "float64",
         "type": "float"
        },
        {
         "name": "Lon",
         "rawType": "float64",
         "type": "float"
        }
       ],
       "ref": "83b96894-2e68-4b29-9f0a-0ddcbed05448",
       "rows": [
        [
         "0",
         "34",
         "1P",
         "745",
         "hydro",
         "4.0333628",
         "12.1",
         "39.134259",
         "-120.953341"
        ],
        [
         "1",
         "151",
         "1",
         "1804",
         "thermal",
         "0.0",
         "71.2",
         "37.62936",
         "-120.93139"
        ],
        [
         "2",
         "151",
         "2",
         "1804",
         "thermal",
         "0.0",
         "71.2",
         "37.62936",
         "-120.93139"
        ],
        [
         "3",
         "161",
         "1",
         "1964",
         "hydro",
         "0.366669117",
         "1.1",
         "37.611461",
         "-120.594678"
        ],
        [
         "4",
         "161",
         "2",
         "1964",
         "hydro",
         "0.366669117",
         "1.1",
         "37.611461",
         "-120.594678"
        ],
        [
         "5",
         "161",
         "3",
         "1964",
         "hydro",
         "0.366669117",
         "1.1",
         "37.611461",
         "-120.594678"
        ],
        [
         "6",
         "162",
         "1",
         "1360",
         "hydro",
         "0.166667613",
         "0.5",
         "37.621536",
         "-120.746247"
        ],
        [
         "7",
         "162",
         "2",
         "1360",
         "hydro",
         "0.166667613",
         "0.5",
         "37.621536",
         "-120.746247"
        ],
        [
         "8",
         "180",
         "1",
         "1745",
         "hydro",
         "0.333335524",
         "1.0",
         "40.45193",
         "-121.86215"
        ],
        [
         "9",
         "214",
         "1",
         "744",
         "hydro",
         "0.333335524",
         "1.0",
         "39.215979",
         "-120.80355"
        ],
        [
         "10",
         "215",
         "1",
         "1587",
         "hydro",
         "0.466669881",
         "1.4",
         "38.071944",
         "-120.539444"
        ],
        [
         "11",
         "219",
         "1",
         "8022",
         "hydro",
         "39.30029",
         "117.9",
         "40.007445",
         "-121.249438"
        ],
        [
         "12",
         "220",
         "H1",
         "2220",
         "hydro",
         "11.0000809",
         "33.0",
         "39.91062",
         "-121.327692"
        ],
        [
         "13",
         "220",
         "H2",
         "2220",
         "hydro",
         "11.0000809",
         "33.0",
         "39.91062",
         "-121.327692"
        ],
        [
         "14",
         "221",
         "1",
         "1748",
         "hydro",
         "13.3334314",
         "40.0",
         "40.175656",
         "-121.190663"
        ],
        [
         "15",
         "222",
         "1",
         "8542",
         "hydro",
         "7.93339151",
         "23.8",
         "40.085476",
         "-121.148241"
        ],
        [
         "16",
         "222",
         "2",
         "8542",
         "hydro",
         "8.33339446",
         "25.0",
         "40.085476",
         "-121.148241"
        ],
        [
         "17",
         "222",
         "3",
         "8542",
         "hydro",
         "8.33339446",
         "25.0",
         "40.085476",
         "-121.148241"
        ],
        [
         "18",
         "223",
         "4",
         "8542",
         "hydro",
         "20.1001481",
         "60.3",
         "40.085997",
         "-121.149373"
        ],
        [
         "19",
         "223",
         "5",
         "8542",
         "hydro",
         "19.2001415",
         "57.6",
         "40.085997",
         "-121.149373"
        ],
        [
         "20",
         "227",
         "1",
         "1743",
         "hydro",
         "4.0333628",
         "12.1",
         "40.404645",
         "-122.121904"
        ],
        [
         "21",
         "229",
         "1",
         "1735",
         "hydro",
         "0.233334754",
         "0.7",
         "40.570817",
         "-122.02093"
        ],
        [
         "22",
         "229",
         "2",
         "1735",
         "hydro",
         "0.233334754",
         "0.7",
         "40.570817",
         "-122.02093"
        ],
        [
         "23",
         "235",
         "1",
         "8578",
         "hydro",
         "4.00002922",
         "12.0",
         "39.256873",
         "-120.767437"
        ],
        [
         "24",
         "235",
         "2",
         "8578",
         "hydro",
         "4.00002922",
         "12.0",
         "39.256873",
         "-120.767437"
        ],
        [
         "25",
         "235",
         "3",
         "8578",
         "hydro",
         "4.00002922",
         "12.0",
         "39.256873",
         "-120.767437"
        ],
        [
         "26",
         "235",
         "4",
         "8578",
         "hydro",
         "4.40003218",
         "13.2",
         "39.256873",
         "-120.767437"
        ],
        [
         "27",
         "237",
         "1",
         "744",
         "hydro",
         "7.33338707",
         "22.0",
         "39.216985",
         "-120.835587"
        ],
        [
         "28",
         "238",
         "1",
         "106",
         "hydro",
         "3.33335758",
         "10.0",
         "38.793574",
         "-120.619152"
        ],
        [
         "29",
         "238",
         "2",
         "106",
         "hydro",
         "3.33335758",
         "10.0",
         "38.793574",
         "-120.619152"
        ],
        [
         "30",
         "239",
         "1",
         "7778",
         "hydro",
         "10.7667458",
         "32.3",
         "38.330985",
         "-120.669901"
        ],
        [
         "31",
         "239",
         "2",
         "7778",
         "hydro",
         "11.700086",
         "35.1",
         "38.330985",
         "-120.669901"
        ],
        [
         "32",
         "239",
         "3",
         "7778",
         "hydro",
         "11.700086",
         "35.1",
         "38.330985",
         "-120.669901"
        ],
        [
         "33",
         "240",
         "H1",
         "1634",
         "hydro",
         "22.5001659",
         "67.5",
         "36.927424",
         "-119.02025"
        ],
        [
         "34",
         "240",
         "H2",
         "1634",
         "hydro",
         "22.5001659",
         "67.5",
         "36.927424",
         "-119.02025"
        ],
        [
         "35",
         "241",
         "1",
         "749",
         "hydro",
         "4.53336649",
         "13.6",
         "38.956985",
         "-121.041932"
        ],
        [
         "36",
         "242",
         "1",
         "339",
         "hydro",
         "0.86667277",
         "2.6",
         "40.268712",
         "-121.089479"
        ],
        [
         "37",
         "242",
         "2",
         "339",
         "hydro",
         "0.900006343",
         "2.7",
         "40.268712",
         "-121.089479"
        ],
        [
         "38",
         "243",
         "1",
         "1286",
         "hydro",
         "3.33335761",
         "10.0",
         "40.929297",
         "-121.544462"
        ],
        [
         "39",
         "244",
         "1",
         "8427",
         "hydro",
         "3.33335761",
         "10.0",
         "40.960675",
         "-121.548657"
        ],
        [
         "40",
         "246",
         "IC1",
         "170",
         "thermal",
         "16.7001233",
         "16.7",
         "40.7415",
         "-124.2103"
        ],
        [
         "41",
         "246",
         "IC10",
         "170",
         "thermal",
         "16.7001233",
         "16.7",
         "40.7415",
         "-124.2103"
        ],
        [
         "42",
         "246",
         "IC2",
         "170",
         "thermal",
         "16.7001233",
         "16.7",
         "40.7415",
         "-124.2103"
        ],
        [
         "43",
         "246",
         "IC3",
         "170",
         "thermal",
         "16.7001233",
         "16.7",
         "40.7415",
         "-124.2103"
        ],
        [
         "44",
         "246",
         "IC4",
         "170",
         "thermal",
         "16.7001233",
         "16.7",
         "40.7415",
         "-124.2103"
        ],
        [
         "45",
         "246",
         "IC5",
         "170",
         "thermal",
         "16.7001233",
         "16.7",
         "40.7415",
         "-124.2103"
        ],
        [
         "46",
         "246",
         "IC6",
         "170",
         "thermal",
         "16.7001233",
         "16.7",
         "40.7415",
         "-124.2103"
        ],
        [
         "47",
         "246",
         "IC7",
         "170",
         "thermal",
         "16.7001233",
         "16.7",
         "40.7415",
         "-124.2103"
        ],
        [
         "48",
         "246",
         "IC8",
         "170",
         "thermal",
         "16.7001233",
         "16.7",
         "40.7415",
         "-124.2103"
        ],
        [
         "49",
         "246",
         "IC9",
         "170",
         "thermal",
         "16.7001233",
         "16.7",
         "40.7415",
         "-124.2103"
        ]
       ],
       "shape": {
        "columns": 8,
        "rows": 2086
       }
      },
      "text/html": [
       "<div><style>\n",
       ".dataframe > thead > tr,\n",
       ".dataframe > tbody > tr {\n",
       "  text-align: right;\n",
       "  white-space: pre-wrap;\n",
       "}\n",
       "</style>\n",
       "<small>shape: (2_086, 8)</small><table border=\"1\" class=\"dataframe\"><thead><tr><th>PlantCode</th><th>GenID</th><th>bus</th><th>type</th><th>Pg</th><th>Pmax</th><th>Lat</th><th>Lon</th></tr><tr><td>i64</td><td>str</td><td>u32</td><td>str</td><td>f64</td><td>f64</td><td>f64</td><td>f64</td></tr></thead><tbody><tr><td>34</td><td>&quot;1P&quot;</td><td>745</td><td>&quot;hydro&quot;</td><td>4.0333628</td><td>12.1</td><td>39.134259</td><td>-120.953341</td></tr><tr><td>151</td><td>&quot;1&quot;</td><td>1804</td><td>&quot;thermal&quot;</td><td>0.0</td><td>71.2</td><td>37.62936</td><td>-120.93139</td></tr><tr><td>151</td><td>&quot;2&quot;</td><td>1804</td><td>&quot;thermal&quot;</td><td>0.0</td><td>71.2</td><td>37.62936</td><td>-120.93139</td></tr><tr><td>161</td><td>&quot;1&quot;</td><td>1964</td><td>&quot;hydro&quot;</td><td>0.366669</td><td>1.1</td><td>37.611461</td><td>-120.594678</td></tr><tr><td>161</td><td>&quot;2&quot;</td><td>1964</td><td>&quot;hydro&quot;</td><td>0.366669</td><td>1.1</td><td>37.611461</td><td>-120.594678</td></tr><tr><td>&hellip;</td><td>&hellip;</td><td>&hellip;</td><td>&hellip;</td><td>&hellip;</td><td>&hellip;</td><td>&hellip;</td><td>&hellip;</td></tr><tr><td>0</td><td>&quot;0&quot;</td><td>7583</td><td>&quot;import&quot;</td><td>0.0</td><td>200.0</td><td>34.288557</td><td>-114.103924</td></tr><tr><td>0</td><td>&quot;0&quot;</td><td>7604</td><td>&quot;import&quot;</td><td>0.0</td><td>200.0</td><td>34.086702</td><td>-113.914313</td></tr><tr><td>0</td><td>&quot;0&quot;</td><td>1293</td><td>&quot;import&quot;</td><td>0.0</td><td>200.0</td><td>39.52124</td><td>-120.008658</td></tr><tr><td>0</td><td>&quot;0&quot;</td><td>1898</td><td>&quot;import&quot;</td><td>0.0</td><td>200.0</td><td>42.079884</td><td>-121.390208</td></tr><tr><td>0</td><td>&quot;0&quot;</td><td>2261</td><td>&quot;import&quot;</td><td>0.0</td><td>200.0</td><td>34.315146</td><td>-114.1577</td></tr></tbody></table></div>"
      ],
      "text/plain": [
       "shape: (2_086, 8)\n",
       "┌───────────┬───────┬──────┬─────────┬───────────┬───────┬───────────┬─────────────┐\n",
       "│ PlantCode ┆ GenID ┆ bus  ┆ type    ┆ Pg        ┆ Pmax  ┆ Lat       ┆ Lon         │\n",
       "│ ---       ┆ ---   ┆ ---  ┆ ---     ┆ ---       ┆ ---   ┆ ---       ┆ ---         │\n",
       "│ i64       ┆ str   ┆ u32  ┆ str     ┆ f64       ┆ f64   ┆ f64       ┆ f64         │\n",
       "╞═══════════╪═══════╪══════╪═════════╪═══════════╪═══════╪═══════════╪═════════════╡\n",
       "│ 34        ┆ 1P    ┆ 745  ┆ hydro   ┆ 4.0333628 ┆ 12.1  ┆ 39.134259 ┆ -120.953341 │\n",
       "│ 151       ┆ 1     ┆ 1804 ┆ thermal ┆ 0.0       ┆ 71.2  ┆ 37.62936  ┆ -120.93139  │\n",
       "│ 151       ┆ 2     ┆ 1804 ┆ thermal ┆ 0.0       ┆ 71.2  ┆ 37.62936  ┆ -120.93139  │\n",
       "│ 161       ┆ 1     ┆ 1964 ┆ hydro   ┆ 0.366669  ┆ 1.1   ┆ 37.611461 ┆ -120.594678 │\n",
       "│ 161       ┆ 2     ┆ 1964 ┆ hydro   ┆ 0.366669  ┆ 1.1   ┆ 37.611461 ┆ -120.594678 │\n",
       "│ …         ┆ …     ┆ …    ┆ …       ┆ …         ┆ …     ┆ …         ┆ …           │\n",
       "│ 0         ┆ 0     ┆ 7583 ┆ import  ┆ 0.0       ┆ 200.0 ┆ 34.288557 ┆ -114.103924 │\n",
       "│ 0         ┆ 0     ┆ 7604 ┆ import  ┆ 0.0       ┆ 200.0 ┆ 34.086702 ┆ -113.914313 │\n",
       "│ 0         ┆ 0     ┆ 1293 ┆ import  ┆ 0.0       ┆ 200.0 ┆ 39.52124  ┆ -120.008658 │\n",
       "│ 0         ┆ 0     ┆ 1898 ┆ import  ┆ 0.0       ┆ 200.0 ┆ 42.079884 ┆ -121.390208 │\n",
       "│ 0         ┆ 0     ┆ 2261 ┆ import  ┆ 0.0       ┆ 200.0 ┆ 34.315146 ┆ -114.1577   │\n",
       "└───────────┴───────┴──────┴─────────┴───────────┴───────┴───────────┴─────────────┘"
      ]
     },
     "execution_count": 7,
     "metadata": {},
     "output_type": "execute_result"
    }
   ],
   "source": [
    "df4"
   ]
  },
  {
   "cell_type": "code",
   "execution_count": 8,
   "id": "aa5ad4a2",
   "metadata": {},
   "outputs": [
    {
     "data": {
      "application/vnd.microsoft.datawrangler.viewer.v0+json": {
       "columns": [
        {
         "name": "index",
         "rawType": "int64",
         "type": "integer"
        },
        {
         "name": "type",
         "rawType": "object",
         "type": "string"
        },
        {
         "name": "bus",
         "rawType": "uint32",
         "type": "integer"
        },
        {
         "name": "Pg",
         "rawType": "float64",
         "type": "float"
        },
        {
         "name": "Pmax",
         "rawType": "float64",
         "type": "float"
        }
       ],
       "ref": "70211df8-1761-48db-8be0-484fc335f2f9",
       "rows": [
        [
         "0",
         "hydro",
         "6",
         "1.63334503",
         "4.9"
        ],
        [
         "1",
         "solar",
         "16",
         "1.362353748",
         "1.93938261"
        ],
        [
         "2",
         "thermal",
         "16",
         "0.0",
         "2.8"
        ],
        [
         "3",
         "solar",
         "17",
         "0.999059415",
         "1.42221391"
        ],
        [
         "4",
         "thermal",
         "17",
         "0.0",
         "1.1"
        ],
        [
         "5",
         "solar",
         "19",
         "1.81647166",
         "2.58584348"
        ],
        [
         "6",
         "other renewables",
         "28",
         "0.0",
         "22.5"
        ],
        [
         "7",
         "hydro",
         "32",
         "14.00010267",
         "42.0"
        ],
        [
         "8",
         "solar",
         "43",
         "1.54400091",
         "2.19796696"
        ],
        [
         "9",
         "thermal",
         "43",
         "2.00001458",
         "2.0"
        ],
        [
         "10",
         "thermal",
         "46",
         "0.0",
         "2.3"
        ],
        [
         "11",
         "hydro",
         "49",
         "1.13334137",
         "3.4"
        ],
        [
         "12",
         "solar",
         "51",
         "3.178825412",
         "4.52522609"
        ],
        [
         "13",
         "hydro",
         "60",
         "1.20000852",
         "3.6"
        ],
        [
         "14",
         "other renewables",
         "68",
         "0.0",
         "29.1"
        ],
        [
         "15",
         "solar",
         "71",
         "1.36235375",
         "1.93938261"
        ],
        [
         "16",
         "thermal",
         "76",
         "0.0",
         "27.3"
        ],
        [
         "17",
         "thermal",
         "90",
         "3.50002568",
         "3.5"
        ],
        [
         "18",
         "hydro",
         "103",
         "4.23336427",
         "12.7"
        ],
        [
         "19",
         "hydro",
         "105",
         "3.33335761",
         "10.0"
        ],
        [
         "20",
         "hydro",
         "106",
         "6.66671516",
         "20.0"
        ],
        [
         "21",
         "solar",
         "108",
         "1.089883",
         "1.551506088"
        ],
        [
         "22",
         "solar",
         "111",
         "127.153016",
         "181.009044"
        ],
        [
         "23",
         "thermal",
         "112",
         "6.80004988",
         "6.8"
        ],
        [
         "24",
         "solar",
         "113",
         "1.36235375",
         "1.93938261"
        ],
        [
         "25",
         "solar",
         "116",
         "17.2564808",
         "24.5655131"
        ],
        [
         "26",
         "solar",
         "121",
         "18.1647166",
         "25.8584348"
        ],
        [
         "27",
         "hydro",
         "125",
         "12.500090996",
         "37.5"
        ],
        [
         "28",
         "solar",
         "131",
         "36.3294332",
         "51.7168696"
        ],
        [
         "29",
         "solar",
         "137",
         "60.488506359999995",
         "86.1085879"
        ],
        [
         "30",
         "other renewables",
         "138",
         "0.0",
         "28.0"
        ],
        [
         "31",
         "solar",
         "138",
         "4.54117916",
         "6.4646087"
        ],
        [
         "32",
         "solar",
         "145",
         "18.1647166",
         "25.8584348"
        ],
        [
         "33",
         "solar",
         "149",
         "54.4941499",
         "77.5753044"
        ],
        [
         "34",
         "solar",
         "155",
         "1.36235375",
         "1.93938261"
        ],
        [
         "35",
         "hydro",
         "158",
         "1.666678396",
         "5.0"
        ],
        [
         "36",
         "other renewables",
         "159",
         "0.0",
         "13.8"
        ],
        [
         "37",
         "hydro",
         "164",
         "0.466669881",
         "1.5"
        ],
        [
         "38",
         "other renewables",
         "165",
         "0.0",
         "18.8"
        ],
        [
         "39",
         "hydro",
         "166",
         "0.433336296",
         "1.3"
        ],
        [
         "40",
         "thermal",
         "170",
         "167.001233",
         "166.99999999999997"
        ],
        [
         "41",
         "other renewables",
         "175",
         "0.0",
         "32.5"
        ],
        [
         "42",
         "other renewables",
         "181",
         "80.000591",
         "80.0"
        ],
        [
         "43",
         "solar",
         "181",
         "5.17694424",
         "7.36965392"
        ],
        [
         "44",
         "solar",
         "182",
         "45.4117916",
         "64.646087"
        ],
        [
         "45",
         "thermal",
         "192",
         "0.0",
         "8.9"
        ],
        [
         "46",
         "hydro",
         "194",
         "3.33335722",
         "10.0"
        ],
        [
         "47",
         "hydro",
         "195",
         "1.9000132950000002",
         "5.699999999999999"
        ],
        [
         "48",
         "thermal",
         "198",
         "105.4759578",
         "121.0"
        ],
        [
         "49",
         "solar",
         "200",
         "1.816471664",
         "2.58584348"
        ]
       ],
       "shape": {
        "columns": 4,
        "rows": 850
       }
      },
      "text/html": [
       "<div><style>\n",
       ".dataframe > thead > tr,\n",
       ".dataframe > tbody > tr {\n",
       "  text-align: right;\n",
       "  white-space: pre-wrap;\n",
       "}\n",
       "</style>\n",
       "<small>shape: (850, 4)</small><table border=\"1\" class=\"dataframe\"><thead><tr><th>type</th><th>bus</th><th>Pg</th><th>Pmax</th></tr><tr><td>str</td><td>u32</td><td>f64</td><td>f64</td></tr></thead><tbody><tr><td>&quot;hydro&quot;</td><td>6</td><td>1.633345</td><td>4.9</td></tr><tr><td>&quot;solar&quot;</td><td>16</td><td>1.362354</td><td>1.939383</td></tr><tr><td>&quot;thermal&quot;</td><td>16</td><td>0.0</td><td>2.8</td></tr><tr><td>&quot;solar&quot;</td><td>17</td><td>0.999059</td><td>1.422214</td></tr><tr><td>&quot;thermal&quot;</td><td>17</td><td>0.0</td><td>1.1</td></tr><tr><td>&hellip;</td><td>&hellip;</td><td>&hellip;</td><td>&hellip;</td></tr><tr><td>&quot;hydro&quot;</td><td>8832</td><td>5.233371</td><td>15.7</td></tr><tr><td>&quot;thermal&quot;</td><td>8832</td><td>0.0</td><td>23.0</td></tr><tr><td>&quot;thermal&quot;</td><td>8838</td><td>49.900364</td><td>49.9</td></tr><tr><td>&quot;thermal&quot;</td><td>8843</td><td>1.40001</td><td>2.9</td></tr><tr><td>&quot;solar&quot;</td><td>8865</td><td>116.980775</td><td>166.52832</td></tr></tbody></table></div>"
      ],
      "text/plain": [
       "shape: (850, 4)\n",
       "┌─────────┬──────┬────────────┬───────────┐\n",
       "│ type    ┆ bus  ┆ Pg         ┆ Pmax      │\n",
       "│ ---     ┆ ---  ┆ ---        ┆ ---       │\n",
       "│ str     ┆ u32  ┆ f64        ┆ f64       │\n",
       "╞═════════╪══════╪════════════╪═══════════╡\n",
       "│ hydro   ┆ 6    ┆ 1.633345   ┆ 4.9       │\n",
       "│ solar   ┆ 16   ┆ 1.362354   ┆ 1.939383  │\n",
       "│ thermal ┆ 16   ┆ 0.0        ┆ 2.8       │\n",
       "│ solar   ┆ 17   ┆ 0.999059   ┆ 1.422214  │\n",
       "│ thermal ┆ 17   ┆ 0.0        ┆ 1.1       │\n",
       "│ …       ┆ …    ┆ …          ┆ …         │\n",
       "│ hydro   ┆ 8832 ┆ 5.233371   ┆ 15.7      │\n",
       "│ thermal ┆ 8832 ┆ 0.0        ┆ 23.0      │\n",
       "│ thermal ┆ 8838 ┆ 49.900364  ┆ 49.9      │\n",
       "│ thermal ┆ 8843 ┆ 1.40001    ┆ 2.9       │\n",
       "│ solar   ┆ 8865 ┆ 116.980775 ┆ 166.52832 │\n",
       "└─────────┴──────┴────────────┴───────────┘"
      ]
     },
     "execution_count": 8,
     "metadata": {},
     "output_type": "execute_result"
    }
   ],
   "source": [
    "# group by type and bus\n",
    "df5 = (\n",
    "    df4.drop(\"Lat\", \"Lon\", \"PlantCode\", \"GenID\")\n",
    "    .group_by(\"type\", \"bus\")\n",
    "    .sum()\n",
    "    .sort(\"bus\", \"type\")\n",
    ")\n",
    "df5"
   ]
  },
  {
   "cell_type": "code",
   "execution_count": 9,
   "id": "007a72fc",
   "metadata": {},
   "outputs": [],
   "source": [
    "# write\n",
    "df5.write_parquet(snakemake.output[0])"
   ]
  }
 ],
 "metadata": {
  "kernelspec": {
   "display_name": ".venv",
   "language": "python",
   "name": "python3"
  },
  "language_info": {
   "codemirror_mode": {
    "name": "ipython",
    "version": 3
   },
   "file_extension": ".py",
   "mimetype": "text/x-python",
   "name": "python",
   "nbconvert_exporter": "python",
   "pygments_lexer": "ipython3",
   "version": "3.13.5"
  }
 },
 "nbformat": 4,
 "nbformat_minor": 5
}
