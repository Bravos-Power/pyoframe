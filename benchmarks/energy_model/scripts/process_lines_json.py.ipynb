{
 "cells": [
  {
   "cell_type": "code",
   "execution_count": 44,
   "id": "07e3cd71",
   "metadata": {},
   "outputs": [],
   "source": [
    "import json\n",
    "\n",
    "import pandas as pd\n",
    "import polars as pl\n",
    "from util import mock_snakemake\n",
    "\n",
    "if \"snakemake\" not in globals() or hasattr(snakemake, \"mock\"):  # noqa: F821\n",
    "    snakemake = mock_snakemake(\"process_line_data\")"
   ]
  },
  {
   "cell_type": "code",
   "execution_count": 45,
   "id": "7b7d13c0",
   "metadata": {},
   "outputs": [
    {
     "data": {
      "application/vnd.microsoft.datawrangler.viewer.v0+json": {
       "columns": [
        {
         "name": "index",
         "rawType": "int64",
         "type": "integer"
        },
        {
         "name": "id",
         "rawType": "int64",
         "type": "integer"
        },
        {
         "name": "type",
         "rawType": "object",
         "type": "string"
        },
        {
         "name": "geometry.coordinates",
         "rawType": "object",
         "type": "unknown"
        },
        {
         "name": "geometry.type",
         "rawType": "object",
         "type": "string"
        },
        {
         "name": "properties.br_r",
         "rawType": "float64",
         "type": "float"
        },
        {
         "name": "properties.rate_a",
         "rawType": "float64",
         "type": "float"
        },
        {
         "name": "properties.Comments",
         "rawType": "object",
         "type": "string"
        },
        {
         "name": "properties.br_b",
         "rawType": "float64",
         "type": "float"
        },
        {
         "name": "properties.Lon2",
         "rawType": "float64",
         "type": "float"
        },
        {
         "name": "properties.Lon1",
         "rawType": "float64",
         "type": "float"
        },
        {
         "name": "properties.br_x",
         "rawType": "float64",
         "type": "float"
        },
        {
         "name": "properties.kV",
         "rawType": "float64",
         "type": "float"
        },
        {
         "name": "properties.Lat1",
         "rawType": "float64",
         "type": "float"
        },
        {
         "name": "properties.f_bus",
         "rawType": "int64",
         "type": "integer"
        },
        {
         "name": "properties.t_bus",
         "rawType": "int64",
         "type": "integer"
        },
        {
         "name": "properties.CATS_ID",
         "rawType": "object",
         "type": "string"
        },
        {
         "name": "properties.Lat2",
         "rawType": "float64",
         "type": "float"
        },
        {
         "name": "properties.transformer",
         "rawType": "bool",
         "type": "boolean"
        },
        {
         "name": "properties.Structure_Type",
         "rawType": "object",
         "type": "unknown"
        },
        {
         "name": "properties.Type",
         "rawType": "object",
         "type": "unknown"
        },
        {
         "name": "properties.Circuit",
         "rawType": "object",
         "type": "unknown"
        },
        {
         "name": "properties.Structure_Material",
         "rawType": "object",
         "type": "unknown"
        }
       ],
       "ref": "a34aa8ca-6d2e-4bac-a5b2-71bd90b46cf6",
       "rows": [
        [
         "0",
         "0",
         "Feature",
         "[[-122.24291409889523, 37.77242586670423], [-122.24314284220173, 37.77204138338957]]",
         "LineString",
         "4.77325417e-05",
         "1.75",
         " ",
         "2.70512591e-05",
         "-122.243142842",
         "-122.242914099",
         "0.000218973035",
         "115.0",
         "37.7724258667",
         "1",
         "2410",
         "1",
         "37.7720413834",
         "False",
         null,
         null,
         null,
         null
        ],
        [
         "1",
         "1",
         "Feature",
         "[[-122.24314284220173, 37.77204138338957], [-122.23805148337712, 37.76979154878516], [-122.23581377250255, 37.7686245894896], [-122.23244332394025, 37.76706384895919], [-122.22935517988525, 37.765455022775555], [-122.22788870384464, 37.764481315224614], [-122.22629274991749, 37.763316927391145], [-122.22437051300933, 37.765197196811975], [-122.22377479980018, 37.765739940826805], [-122.22078537780025, 37.76327361959703], [-122.21941656097209, 37.76217027789175], [-122.2178632331517, 37.76079113032142], [-122.21592392523571, 37.76209831076434], [-122.21447868693599, 37.763001646168085]]",
         "LineString",
         "0.000914159703",
         "4.37",
         " ",
         "0.00232055065",
         "-122.214478687",
         "-122.243142842",
         "0.00748537674",
         "115.0",
         "37.7720413834",
         "2410",
         "20",
         "2",
         "37.7630016462",
         "False",
         null,
         null,
         null,
         null
        ],
        [
         "2",
         "2",
         "Feature",
         "[[-122.24314284220173, 37.77204138338957], [-122.24325206054357, 37.7719100682287], [-122.24632697724377, 37.7732653255928], [-122.2495348371797, 37.774634998017284], [-122.25217452249989, 37.775788755739654], [-122.25310809652956, 37.77617826330733], [-122.25426581430817, 37.77445039121287], [-122.25745413823752, 37.7758440253838], [-122.25828045876457, 37.776216098197004], [-122.25929318688159, 37.77649081309992], [-122.25989986577869, 37.77659534429686], [-122.2604216748041, 37.776649171761875], [-122.26094272980612, 37.77667799661188], [-122.2630688054018, 37.77675155330102], [-122.26590415540433, 37.77690034498243], [-122.2694114368994, 37.777029520714095], [-122.27337419096659, 37.777109019385854], [-122.27689084463532, 37.777167305040074], [-122.27973894254738, 37.777260951733766], [-122.28225807883432, 37.77731076966429], [-122.28233267531998, 37.776456593958194], [-122.28267440977484, 37.776447809139604], [-122.28351976529372, 37.77646126092992], [-122.2869393621207, 37.77654156653948], [-122.28969484103831, 37.77661400437466], [-122.29144383760769, 37.776666975925714], [-122.29144003765407, 37.77673072112283], [-122.29135507441687, 37.77846514605875], [-122.29145408356094, 37.779165922885475]]",
         "LineString",
         "0.00354038775",
         "1.85",
         " ",
         "0.00246932935",
         "-122.291454084",
         "-122.243142842",
         "0.0161378013",
         "115.0",
         "37.7720413834",
         "2410",
         "2411",
         "3",
         "37.7791659229",
         "False",
         null,
         null,
         null,
         null
        ],
        [
         "3",
         "3",
         "Feature",
         "[[-122.29145408356094, 37.779165922885475], [-122.29269757630254, 37.7793217798871]]",
         "LineString",
         "0.000155718691",
         "1.42",
         " ",
         "7.07109094e-05",
         "-122.292697576",
         "-122.291454084",
         "0.000468686643",
         "115.0",
         "37.7791659229",
         "2411",
         "1618",
         "4",
         "37.7793217799",
         "False",
         null,
         null,
         null,
         null
        ],
        [
         "4",
         "4",
         "Feature",
         "[[-122.29145408356094, 37.779165922885475], [-122.29146555093914, 37.7808414183358], [-122.2914692868177, 37.78145498456132], [-122.2915011796648, 37.78348136059104], [-122.29126540691995, 37.78346211564351], [-122.29128001194006, 37.78623310520014], [-122.29143567330604, 37.78706942612206], [-122.29113742911032, 37.787954017240935], [-122.29072008285794, 37.78854396375655], [-122.29049002113273, 37.78854836193], [-122.28981822348467, 37.7886720528845]]",
         "LineString",
         "0.000648026445",
         "2.19",
         " ",
         "0.00053719108",
         "-122.289818223",
         "-122.291454084",
         "0.00410435055",
         "115.0",
         "37.7791659229",
         "2411",
         "1617",
         "5",
         "37.7886720529",
         "False",
         null,
         null,
         null,
         null
        ]
       ],
       "shape": {
        "columns": 22,
        "rows": 5
       }
      },
      "text/html": [
       "<div>\n",
       "<style scoped>\n",
       "    .dataframe tbody tr th:only-of-type {\n",
       "        vertical-align: middle;\n",
       "    }\n",
       "\n",
       "    .dataframe tbody tr th {\n",
       "        vertical-align: top;\n",
       "    }\n",
       "\n",
       "    .dataframe thead th {\n",
       "        text-align: right;\n",
       "    }\n",
       "</style>\n",
       "<table border=\"1\" class=\"dataframe\">\n",
       "  <thead>\n",
       "    <tr style=\"text-align: right;\">\n",
       "      <th></th>\n",
       "      <th>id</th>\n",
       "      <th>type</th>\n",
       "      <th>geometry.coordinates</th>\n",
       "      <th>geometry.type</th>\n",
       "      <th>properties.br_r</th>\n",
       "      <th>properties.rate_a</th>\n",
       "      <th>properties.Comments</th>\n",
       "      <th>properties.br_b</th>\n",
       "      <th>properties.Lon2</th>\n",
       "      <th>properties.Lon1</th>\n",
       "      <th>...</th>\n",
       "      <th>properties.Lat1</th>\n",
       "      <th>properties.f_bus</th>\n",
       "      <th>properties.t_bus</th>\n",
       "      <th>properties.CATS_ID</th>\n",
       "      <th>properties.Lat2</th>\n",
       "      <th>properties.transformer</th>\n",
       "      <th>properties.Structure_Type</th>\n",
       "      <th>properties.Type</th>\n",
       "      <th>properties.Circuit</th>\n",
       "      <th>properties.Structure_Material</th>\n",
       "    </tr>\n",
       "  </thead>\n",
       "  <tbody>\n",
       "    <tr>\n",
       "      <th>0</th>\n",
       "      <td>0</td>\n",
       "      <td>Feature</td>\n",
       "      <td>[[-122.24291409889523, 37.77242586670423], [-1...</td>\n",
       "      <td>LineString</td>\n",
       "      <td>0.000048</td>\n",
       "      <td>1.75</td>\n",
       "      <td></td>\n",
       "      <td>0.000027</td>\n",
       "      <td>-122.243143</td>\n",
       "      <td>-122.242914</td>\n",
       "      <td>...</td>\n",
       "      <td>37.772426</td>\n",
       "      <td>1</td>\n",
       "      <td>2410</td>\n",
       "      <td>1</td>\n",
       "      <td>37.772041</td>\n",
       "      <td>False</td>\n",
       "      <td>NaN</td>\n",
       "      <td>NaN</td>\n",
       "      <td>NaN</td>\n",
       "      <td>NaN</td>\n",
       "    </tr>\n",
       "    <tr>\n",
       "      <th>1</th>\n",
       "      <td>1</td>\n",
       "      <td>Feature</td>\n",
       "      <td>[[-122.24314284220173, 37.77204138338957], [-1...</td>\n",
       "      <td>LineString</td>\n",
       "      <td>0.000914</td>\n",
       "      <td>4.37</td>\n",
       "      <td></td>\n",
       "      <td>0.002321</td>\n",
       "      <td>-122.214479</td>\n",
       "      <td>-122.243143</td>\n",
       "      <td>...</td>\n",
       "      <td>37.772041</td>\n",
       "      <td>2410</td>\n",
       "      <td>20</td>\n",
       "      <td>2</td>\n",
       "      <td>37.763002</td>\n",
       "      <td>False</td>\n",
       "      <td>NaN</td>\n",
       "      <td>NaN</td>\n",
       "      <td>NaN</td>\n",
       "      <td>NaN</td>\n",
       "    </tr>\n",
       "    <tr>\n",
       "      <th>2</th>\n",
       "      <td>2</td>\n",
       "      <td>Feature</td>\n",
       "      <td>[[-122.24314284220173, 37.77204138338957], [-1...</td>\n",
       "      <td>LineString</td>\n",
       "      <td>0.003540</td>\n",
       "      <td>1.85</td>\n",
       "      <td></td>\n",
       "      <td>0.002469</td>\n",
       "      <td>-122.291454</td>\n",
       "      <td>-122.243143</td>\n",
       "      <td>...</td>\n",
       "      <td>37.772041</td>\n",
       "      <td>2410</td>\n",
       "      <td>2411</td>\n",
       "      <td>3</td>\n",
       "      <td>37.779166</td>\n",
       "      <td>False</td>\n",
       "      <td>NaN</td>\n",
       "      <td>NaN</td>\n",
       "      <td>NaN</td>\n",
       "      <td>NaN</td>\n",
       "    </tr>\n",
       "    <tr>\n",
       "      <th>3</th>\n",
       "      <td>3</td>\n",
       "      <td>Feature</td>\n",
       "      <td>[[-122.29145408356094, 37.779165922885475], [-...</td>\n",
       "      <td>LineString</td>\n",
       "      <td>0.000156</td>\n",
       "      <td>1.42</td>\n",
       "      <td></td>\n",
       "      <td>0.000071</td>\n",
       "      <td>-122.292698</td>\n",
       "      <td>-122.291454</td>\n",
       "      <td>...</td>\n",
       "      <td>37.779166</td>\n",
       "      <td>2411</td>\n",
       "      <td>1618</td>\n",
       "      <td>4</td>\n",
       "      <td>37.779322</td>\n",
       "      <td>False</td>\n",
       "      <td>NaN</td>\n",
       "      <td>NaN</td>\n",
       "      <td>NaN</td>\n",
       "      <td>NaN</td>\n",
       "    </tr>\n",
       "    <tr>\n",
       "      <th>4</th>\n",
       "      <td>4</td>\n",
       "      <td>Feature</td>\n",
       "      <td>[[-122.29145408356094, 37.779165922885475], [-...</td>\n",
       "      <td>LineString</td>\n",
       "      <td>0.000648</td>\n",
       "      <td>2.19</td>\n",
       "      <td></td>\n",
       "      <td>0.000537</td>\n",
       "      <td>-122.289818</td>\n",
       "      <td>-122.291454</td>\n",
       "      <td>...</td>\n",
       "      <td>37.779166</td>\n",
       "      <td>2411</td>\n",
       "      <td>1617</td>\n",
       "      <td>5</td>\n",
       "      <td>37.788672</td>\n",
       "      <td>False</td>\n",
       "      <td>NaN</td>\n",
       "      <td>NaN</td>\n",
       "      <td>NaN</td>\n",
       "      <td>NaN</td>\n",
       "    </tr>\n",
       "  </tbody>\n",
       "</table>\n",
       "<p>5 rows × 22 columns</p>\n",
       "</div>"
      ],
      "text/plain": [
       "   id     type                               geometry.coordinates  \\\n",
       "0   0  Feature  [[-122.24291409889523, 37.77242586670423], [-1...   \n",
       "1   1  Feature  [[-122.24314284220173, 37.77204138338957], [-1...   \n",
       "2   2  Feature  [[-122.24314284220173, 37.77204138338957], [-1...   \n",
       "3   3  Feature  [[-122.29145408356094, 37.779165922885475], [-...   \n",
       "4   4  Feature  [[-122.29145408356094, 37.779165922885475], [-...   \n",
       "\n",
       "  geometry.type  properties.br_r  properties.rate_a properties.Comments  \\\n",
       "0    LineString         0.000048               1.75                       \n",
       "1    LineString         0.000914               4.37                       \n",
       "2    LineString         0.003540               1.85                       \n",
       "3    LineString         0.000156               1.42                       \n",
       "4    LineString         0.000648               2.19                       \n",
       "\n",
       "   properties.br_b  properties.Lon2  properties.Lon1  ...  properties.Lat1  \\\n",
       "0         0.000027      -122.243143      -122.242914  ...        37.772426   \n",
       "1         0.002321      -122.214479      -122.243143  ...        37.772041   \n",
       "2         0.002469      -122.291454      -122.243143  ...        37.772041   \n",
       "3         0.000071      -122.292698      -122.291454  ...        37.779166   \n",
       "4         0.000537      -122.289818      -122.291454  ...        37.779166   \n",
       "\n",
       "   properties.f_bus  properties.t_bus  properties.CATS_ID  properties.Lat2  \\\n",
       "0                 1              2410                   1        37.772041   \n",
       "1              2410                20                   2        37.763002   \n",
       "2              2410              2411                   3        37.779166   \n",
       "3              2411              1618                   4        37.779322   \n",
       "4              2411              1617                   5        37.788672   \n",
       "\n",
       "  properties.transformer  properties.Structure_Type  properties.Type  \\\n",
       "0                  False                        NaN              NaN   \n",
       "1                  False                        NaN              NaN   \n",
       "2                  False                        NaN              NaN   \n",
       "3                  False                        NaN              NaN   \n",
       "4                  False                        NaN              NaN   \n",
       "\n",
       "  properties.Circuit properties.Structure_Material  \n",
       "0                NaN                           NaN  \n",
       "1                NaN                           NaN  \n",
       "2                NaN                           NaN  \n",
       "3                NaN                           NaN  \n",
       "4                NaN                           NaN  \n",
       "\n",
       "[5 rows x 22 columns]"
      ]
     },
     "execution_count": 45,
     "metadata": {},
     "output_type": "execute_result"
    }
   ],
   "source": [
    "geojson = json.load(open(snakemake.input[0]))\n",
    "df = pd.json_normalize(geojson, record_path=[\"features\"])\n",
    "df.head()"
   ]
  },
  {
   "cell_type": "code",
   "execution_count": null,
   "id": "2cd013d4",
   "metadata": {},
   "outputs": [],
   "source": [
    "# Code to explore the MultiLineString geometry type. They appear to but just like the normal LineString types.\n",
    "# geojson[\"features\"] = [\n",
    "#     f for f in geojson[\"features\"] if f[\"geometry\"][\"type\"] != \"LineString\"\n",
    "# ]\n",
    "# json.dump(geojson, open(snakemake.output.special_features, \"w\"))"
   ]
  },
  {
   "cell_type": "code",
   "execution_count": 38,
   "id": "366760c7",
   "metadata": {},
   "outputs": [
    {
     "data": {
      "application/vnd.microsoft.datawrangler.viewer.v0+json": {
       "columns": [
        {
         "name": "index",
         "rawType": "int64",
         "type": "integer"
        },
        {
         "name": "br_r",
         "rawType": "float64",
         "type": "float"
        },
        {
         "name": "rate_a",
         "rawType": "float64",
         "type": "float"
        },
        {
         "name": "Comments",
         "rawType": "object",
         "type": "string"
        },
        {
         "name": "br_b",
         "rawType": "float64",
         "type": "float"
        },
        {
         "name": "Lon2",
         "rawType": "float64",
         "type": "float"
        },
        {
         "name": "Lon1",
         "rawType": "float64",
         "type": "float"
        },
        {
         "name": "br_x",
         "rawType": "float64",
         "type": "float"
        },
        {
         "name": "kV",
         "rawType": "float64",
         "type": "float"
        },
        {
         "name": "Lat1",
         "rawType": "float64",
         "type": "float"
        },
        {
         "name": "f_bus",
         "rawType": "int64",
         "type": "integer"
        },
        {
         "name": "t_bus",
         "rawType": "int64",
         "type": "integer"
        },
        {
         "name": "CATS_ID",
         "rawType": "object",
         "type": "string"
        },
        {
         "name": "Lat2",
         "rawType": "float64",
         "type": "float"
        },
        {
         "name": "transformer",
         "rawType": "bool",
         "type": "boolean"
        },
        {
         "name": "Structure_Type",
         "rawType": "object",
         "type": "unknown"
        },
        {
         "name": "Type",
         "rawType": "object",
         "type": "unknown"
        },
        {
         "name": "Circuit",
         "rawType": "object",
         "type": "unknown"
        },
        {
         "name": "Structure_Material",
         "rawType": "object",
         "type": "unknown"
        }
       ],
       "ref": "a5fa558e-188d-47fc-b52a-4caf5e9c5473",
       "rows": [
        [
         "0",
         "4.77325417e-05",
         "1.75",
         " ",
         "2.70512591e-05",
         "-122.243142842",
         "-122.242914099",
         "0.000218973035",
         "115.0",
         "37.7724258667",
         "1",
         "2410",
         "1",
         "37.7720413834",
         "False",
         null,
         null,
         null,
         null
        ],
        [
         "1",
         "0.000914159703",
         "4.37",
         " ",
         "0.00232055065",
         "-122.214478687",
         "-122.243142842",
         "0.00748537674",
         "115.0",
         "37.7720413834",
         "2410",
         "20",
         "2",
         "37.7630016462",
         "False",
         null,
         null,
         null,
         null
        ],
        [
         "2",
         "0.00354038775",
         "1.85",
         " ",
         "0.00246932935",
         "-122.291454084",
         "-122.243142842",
         "0.0161378013",
         "115.0",
         "37.7720413834",
         "2410",
         "2411",
         "3",
         "37.7791659229",
         "False",
         null,
         null,
         null,
         null
        ],
        [
         "3",
         "0.000155718691",
         "1.42",
         " ",
         "7.07109094e-05",
         "-122.292697576",
         "-122.291454084",
         "0.000468686643",
         "115.0",
         "37.7791659229",
         "2411",
         "1618",
         "4",
         "37.7793217799",
         "False",
         null,
         null,
         null,
         null
        ],
        [
         "4",
         "0.000648026445",
         "2.19",
         " ",
         "0.00053719108",
         "-122.289818223",
         "-122.291454084",
         "0.00410435055",
         "115.0",
         "37.7791659229",
         "2411",
         "1617",
         "5",
         "37.7886720529",
         "False",
         null,
         null,
         null,
         null
        ]
       ],
       "shape": {
        "columns": 18,
        "rows": 5
       }
      },
      "text/html": [
       "<div>\n",
       "<style scoped>\n",
       "    .dataframe tbody tr th:only-of-type {\n",
       "        vertical-align: middle;\n",
       "    }\n",
       "\n",
       "    .dataframe tbody tr th {\n",
       "        vertical-align: top;\n",
       "    }\n",
       "\n",
       "    .dataframe thead th {\n",
       "        text-align: right;\n",
       "    }\n",
       "</style>\n",
       "<table border=\"1\" class=\"dataframe\">\n",
       "  <thead>\n",
       "    <tr style=\"text-align: right;\">\n",
       "      <th></th>\n",
       "      <th>br_r</th>\n",
       "      <th>rate_a</th>\n",
       "      <th>Comments</th>\n",
       "      <th>br_b</th>\n",
       "      <th>Lon2</th>\n",
       "      <th>Lon1</th>\n",
       "      <th>br_x</th>\n",
       "      <th>kV</th>\n",
       "      <th>Lat1</th>\n",
       "      <th>f_bus</th>\n",
       "      <th>t_bus</th>\n",
       "      <th>CATS_ID</th>\n",
       "      <th>Lat2</th>\n",
       "      <th>transformer</th>\n",
       "      <th>Structure_Type</th>\n",
       "      <th>Type</th>\n",
       "      <th>Circuit</th>\n",
       "      <th>Structure_Material</th>\n",
       "    </tr>\n",
       "  </thead>\n",
       "  <tbody>\n",
       "    <tr>\n",
       "      <th>0</th>\n",
       "      <td>0.000048</td>\n",
       "      <td>1.75</td>\n",
       "      <td></td>\n",
       "      <td>0.000027</td>\n",
       "      <td>-122.243143</td>\n",
       "      <td>-122.242914</td>\n",
       "      <td>0.000219</td>\n",
       "      <td>115.0</td>\n",
       "      <td>37.772426</td>\n",
       "      <td>1</td>\n",
       "      <td>2410</td>\n",
       "      <td>1</td>\n",
       "      <td>37.772041</td>\n",
       "      <td>False</td>\n",
       "      <td>NaN</td>\n",
       "      <td>NaN</td>\n",
       "      <td>NaN</td>\n",
       "      <td>NaN</td>\n",
       "    </tr>\n",
       "    <tr>\n",
       "      <th>1</th>\n",
       "      <td>0.000914</td>\n",
       "      <td>4.37</td>\n",
       "      <td></td>\n",
       "      <td>0.002321</td>\n",
       "      <td>-122.214479</td>\n",
       "      <td>-122.243143</td>\n",
       "      <td>0.007485</td>\n",
       "      <td>115.0</td>\n",
       "      <td>37.772041</td>\n",
       "      <td>2410</td>\n",
       "      <td>20</td>\n",
       "      <td>2</td>\n",
       "      <td>37.763002</td>\n",
       "      <td>False</td>\n",
       "      <td>NaN</td>\n",
       "      <td>NaN</td>\n",
       "      <td>NaN</td>\n",
       "      <td>NaN</td>\n",
       "    </tr>\n",
       "    <tr>\n",
       "      <th>2</th>\n",
       "      <td>0.003540</td>\n",
       "      <td>1.85</td>\n",
       "      <td></td>\n",
       "      <td>0.002469</td>\n",
       "      <td>-122.291454</td>\n",
       "      <td>-122.243143</td>\n",
       "      <td>0.016138</td>\n",
       "      <td>115.0</td>\n",
       "      <td>37.772041</td>\n",
       "      <td>2410</td>\n",
       "      <td>2411</td>\n",
       "      <td>3</td>\n",
       "      <td>37.779166</td>\n",
       "      <td>False</td>\n",
       "      <td>NaN</td>\n",
       "      <td>NaN</td>\n",
       "      <td>NaN</td>\n",
       "      <td>NaN</td>\n",
       "    </tr>\n",
       "    <tr>\n",
       "      <th>3</th>\n",
       "      <td>0.000156</td>\n",
       "      <td>1.42</td>\n",
       "      <td></td>\n",
       "      <td>0.000071</td>\n",
       "      <td>-122.292698</td>\n",
       "      <td>-122.291454</td>\n",
       "      <td>0.000469</td>\n",
       "      <td>115.0</td>\n",
       "      <td>37.779166</td>\n",
       "      <td>2411</td>\n",
       "      <td>1618</td>\n",
       "      <td>4</td>\n",
       "      <td>37.779322</td>\n",
       "      <td>False</td>\n",
       "      <td>NaN</td>\n",
       "      <td>NaN</td>\n",
       "      <td>NaN</td>\n",
       "      <td>NaN</td>\n",
       "    </tr>\n",
       "    <tr>\n",
       "      <th>4</th>\n",
       "      <td>0.000648</td>\n",
       "      <td>2.19</td>\n",
       "      <td></td>\n",
       "      <td>0.000537</td>\n",
       "      <td>-122.289818</td>\n",
       "      <td>-122.291454</td>\n",
       "      <td>0.004104</td>\n",
       "      <td>115.0</td>\n",
       "      <td>37.779166</td>\n",
       "      <td>2411</td>\n",
       "      <td>1617</td>\n",
       "      <td>5</td>\n",
       "      <td>37.788672</td>\n",
       "      <td>False</td>\n",
       "      <td>NaN</td>\n",
       "      <td>NaN</td>\n",
       "      <td>NaN</td>\n",
       "      <td>NaN</td>\n",
       "    </tr>\n",
       "  </tbody>\n",
       "</table>\n",
       "</div>"
      ],
      "text/plain": [
       "       br_r  rate_a Comments      br_b        Lon2        Lon1      br_x  \\\n",
       "0  0.000048    1.75           0.000027 -122.243143 -122.242914  0.000219   \n",
       "1  0.000914    4.37           0.002321 -122.214479 -122.243143  0.007485   \n",
       "2  0.003540    1.85           0.002469 -122.291454 -122.243143  0.016138   \n",
       "3  0.000156    1.42           0.000071 -122.292698 -122.291454  0.000469   \n",
       "4  0.000648    2.19           0.000537 -122.289818 -122.291454  0.004104   \n",
       "\n",
       "      kV       Lat1  f_bus  t_bus CATS_ID       Lat2  transformer  \\\n",
       "0  115.0  37.772426      1   2410       1  37.772041        False   \n",
       "1  115.0  37.772041   2410     20       2  37.763002        False   \n",
       "2  115.0  37.772041   2410   2411       3  37.779166        False   \n",
       "3  115.0  37.779166   2411   1618       4  37.779322        False   \n",
       "4  115.0  37.779166   2411   1617       5  37.788672        False   \n",
       "\n",
       "  Structure_Type Type Circuit Structure_Material  \n",
       "0            NaN  NaN     NaN                NaN  \n",
       "1            NaN  NaN     NaN                NaN  \n",
       "2            NaN  NaN     NaN                NaN  \n",
       "3            NaN  NaN     NaN                NaN  \n",
       "4            NaN  NaN     NaN                NaN  "
      ]
     },
     "execution_count": 38,
     "metadata": {},
     "output_type": "execute_result"
    }
   ],
   "source": [
    "df2 = df.drop(columns=(c for c in df.columns if not c.startswith(\"properties.\")))\n",
    "df2.columns = df2.columns.str.replace(\"properties.\", \"\", regex=False)\n",
    "df2.head()"
   ]
  },
  {
   "cell_type": "code",
   "execution_count": 39,
   "id": "10f09347",
   "metadata": {},
   "outputs": [
    {
     "data": {
      "application/vnd.microsoft.datawrangler.viewer.v0+json": {
       "columns": [
        {
         "name": "index",
         "rawType": "int64",
         "type": "integer"
        },
        {
         "name": "from_bus",
         "rawType": "int64",
         "type": "integer"
        },
        {
         "name": "to_bus",
         "rawType": "int64",
         "type": "integer"
        },
        {
         "name": "line_rating",
         "rawType": "float64",
         "type": "float"
        },
        {
         "name": "reactance",
         "rawType": "float64",
         "type": "float"
        }
       ],
       "ref": "b3acc4eb-07bf-49c9-b87a-5d9ae7f1b786",
       "rows": [
        [
         "0",
         "1",
         "2410",
         "1.75",
         "0.000218973035"
        ],
        [
         "1",
         "2410",
         "20",
         "4.37",
         "0.00748537674"
        ],
        [
         "2",
         "2410",
         "2411",
         "1.85",
         "0.0161378013"
        ],
        [
         "3",
         "2411",
         "1618",
         "1.42",
         "0.000468686643"
        ],
        [
         "4",
         "2411",
         "1617",
         "2.19",
         "0.00410435055"
        ]
       ],
       "shape": {
        "columns": 4,
        "rows": 5
       }
      },
      "text/html": [
       "<div><style>\n",
       ".dataframe > thead > tr,\n",
       ".dataframe > tbody > tr {\n",
       "  text-align: right;\n",
       "  white-space: pre-wrap;\n",
       "}\n",
       "</style>\n",
       "<small>shape: (5, 4)</small><table border=\"1\" class=\"dataframe\"><thead><tr><th>from_bus</th><th>to_bus</th><th>line_rating</th><th>reactance</th></tr><tr><td>i64</td><td>i64</td><td>f64</td><td>f64</td></tr></thead><tbody><tr><td>1</td><td>2410</td><td>1.75</td><td>0.000219</td></tr><tr><td>2410</td><td>20</td><td>4.37</td><td>0.007485</td></tr><tr><td>2410</td><td>2411</td><td>1.85</td><td>0.016138</td></tr><tr><td>2411</td><td>1618</td><td>1.42</td><td>0.000469</td></tr><tr><td>2411</td><td>1617</td><td>2.19</td><td>0.004104</td></tr></tbody></table></div>"
      ],
      "text/plain": [
       "shape: (5, 4)\n",
       "┌──────────┬────────┬─────────────┬───────────┐\n",
       "│ from_bus ┆ to_bus ┆ line_rating ┆ reactance │\n",
       "│ ---      ┆ ---    ┆ ---         ┆ ---       │\n",
       "│ i64      ┆ i64    ┆ f64         ┆ f64       │\n",
       "╞══════════╪════════╪═════════════╪═══════════╡\n",
       "│ 1        ┆ 2410   ┆ 1.75        ┆ 0.000219  │\n",
       "│ 2410     ┆ 20     ┆ 4.37        ┆ 0.007485  │\n",
       "│ 2410     ┆ 2411   ┆ 1.85        ┆ 0.016138  │\n",
       "│ 2411     ┆ 1618   ┆ 1.42        ┆ 0.000469  │\n",
       "│ 2411     ┆ 1617   ┆ 2.19        ┆ 0.004104  │\n",
       "└──────────┴────────┴─────────────┴───────────┘"
      ]
     },
     "execution_count": 39,
     "metadata": {},
     "output_type": "execute_result"
    }
   ],
   "source": [
    "# See description of columns here: https://matpower.org/docs/ref/matpower5.0/caseformat.html\n",
    "col_name_map = {\n",
    "    # \"CATS_ID\": \"id\",\n",
    "    \"f_bus\": \"from_bus\",\n",
    "    \"t_bus\": \"to_bus\",\n",
    "    # \"kV\": \"voltage_kv\",\n",
    "    \"rate_a\": \"line_rating\",\n",
    "    # \"br_r\": \"resistance\",\n",
    "    \"br_x\": \"reactance\",\n",
    "}\n",
    "df3 = df2.rename(columns=col_name_map)\n",
    "df3: pl.DataFrame = pl.from_pandas(df3[col_name_map.values()])\n",
    "df3.head()"
   ]
  },
  {
   "cell_type": "code",
   "execution_count": 40,
   "id": "a007dc5a",
   "metadata": {},
   "outputs": [],
   "source": [
    "assert df3.filter(pl.col(\"from_bus\") == pl.col(\"to_bus\")).height == 0, (\n",
    "    \"Lines must not connect a bus to itself\"\n",
    ")"
   ]
  },
  {
   "cell_type": "code",
   "execution_count": 42,
   "id": "f79ede03",
   "metadata": {},
   "outputs": [
    {
     "data": {
      "application/vnd.microsoft.datawrangler.viewer.v0+json": {
       "columns": [
        {
         "name": "index",
         "rawType": "int64",
         "type": "integer"
        },
        {
         "name": "from_bus",
         "rawType": "int64",
         "type": "integer"
        },
        {
         "name": "to_bus",
         "rawType": "int64",
         "type": "integer"
        },
        {
         "name": "line_rating",
         "rawType": "float64",
         "type": "float"
        },
        {
         "name": "reactance",
         "rawType": "float64",
         "type": "float"
        }
       ],
       "ref": "98fc2416-3ed1-405a-a97a-7f129ede5d5e",
       "rows": [
        [
         "0",
         "1",
         "2410",
         "1.75",
         "0.000218973035"
        ],
        [
         "1",
         "20",
         "2410",
         "4.37",
         "0.00748537674"
        ],
        [
         "2",
         "2410",
         "2411",
         "1.85",
         "0.0161378013"
        ],
        [
         "3",
         "1618",
         "2411",
         "1.42",
         "0.000468686643"
        ],
        [
         "4",
         "1617",
         "2411",
         "2.19",
         "0.00410435055"
        ],
        [
         "5",
         "1617",
         "2412",
         "2.19",
         "0.00701611209"
        ],
        [
         "6",
         "2359",
         "2360",
         "0.41",
         "0.368843148"
        ],
        [
         "7",
         "2031",
         "2426",
         "0.64",
         "0.00444059079"
        ],
        [
         "8",
         "5593",
         "6724",
         "1.41",
         "0.00411439019"
        ],
        [
         "9",
         "2413",
         "5593",
         "0.8",
         "0.015814843"
        ],
        [
         "10",
         "2426",
         "6724",
         "0.8",
         "0.00449177354"
        ],
        [
         "11",
         "2414",
         "8021",
         "1.1",
         "0.0205577663"
        ],
        [
         "12",
         "2415",
         "2446",
         "1.76",
         "0.0119827433"
        ],
        [
         "13",
         "2034",
         "2417",
         "1.41",
         "0.00144238896"
        ],
        [
         "14",
         "2416",
         "2436",
         "0.64",
         "0.0139169574"
        ],
        [
         "15",
         "2417",
         "2436",
         "0.64",
         "0.000823295262"
        ],
        [
         "16",
         "2417",
         "2418",
         "0.64",
         "0.0138364481"
        ],
        [
         "17",
         "1867",
         "2034",
         "0.57",
         "0.00968956783"
        ],
        [
         "18",
         "1866",
         "2440",
         "0.41",
         "0.00857881308"
        ],
        [
         "19",
         "2419",
         "2440",
         "0.64",
         "0.0325434284"
        ],
        [
         "20",
         "1866",
         "2420",
         "0.64",
         "0.00669693863"
        ],
        [
         "21",
         "2421",
         "5705",
         "0.24",
         "0.0231413002"
        ],
        [
         "22",
         "2419",
         "5705",
         "0.78",
         "0.00259654105"
        ],
        [
         "23",
         "2422",
         "2423",
         "0.64",
         "0.0320784635"
        ],
        [
         "24",
         "2423",
         "2424",
         "1.1",
         "0.00333522864"
        ],
        [
         "25",
         "2424",
         "2425",
         "0.64",
         "0.00567611124"
        ],
        [
         "26",
         "2032",
         "2425",
         "0.64",
         "0.0123153993"
        ],
        [
         "27",
         "2414",
         "2425",
         "0.64",
         "0.00337806797"
        ],
        [
         "28",
         "2362",
         "2426",
         "0.64",
         "0.0162273162"
        ],
        [
         "29",
         "2427",
         "6726",
         "0.64",
         "0.00118790119"
        ],
        [
         "30",
         "2428",
         "6726",
         "0.64",
         "0.0260712859"
        ],
        [
         "31",
         "2428",
         "2429",
         "0.82",
         "0.00176497675"
        ],
        [
         "32",
         "2429",
         "2430",
         "0.64",
         "0.00243009328"
        ],
        [
         "33",
         "2033",
         "2430",
         "0.64",
         "0.0135924954"
        ],
        [
         "34",
         "2031",
         "2431",
         "0.82",
         "0.016931221"
        ],
        [
         "35",
         "2431",
         "2432",
         "0.56",
         "0.0052504013"
        ],
        [
         "36",
         "2033",
         "2432",
         "0.7",
         "0.0117800569"
        ],
        [
         "37",
         "1867",
         "2034",
         "0.64",
         "0.00905807365"
        ],
        [
         "38",
         "1867",
         "2433",
         "0.64",
         "0.0121279362"
        ],
        [
         "39",
         "2434",
         "2435",
         "0.64",
         "0.00493676128"
        ],
        [
         "40",
         "2433",
         "2438",
         "0.57",
         "0.00214511943"
        ],
        [
         "41",
         "2436",
         "2438",
         "0.24",
         "0.0129447344"
        ],
        [
         "42",
         "2437",
         "2438",
         "0.64",
         "0.0045006143"
        ],
        [
         "43",
         "2434",
         "2437",
         "0.64",
         "0.0005715866"
        ],
        [
         "44",
         "2435",
         "2439",
         "0.64",
         "0.0013787095"
        ],
        [
         "45",
         "2420",
         "2440",
         "0.64",
         "0.00505875855"
        ],
        [
         "46",
         "2420",
         "2441",
         "0.64",
         "0.0080296346"
        ],
        [
         "47",
         "2035",
         "2421",
         "0.64",
         "0.00944925041"
        ],
        [
         "48",
         "2441",
         "2442",
         "1.1",
         "0.000699175639"
        ],
        [
         "49",
         "2442",
         "2443",
         "0.64",
         "0.00210508734"
        ]
       ],
       "shape": {
        "columns": 4,
        "rows": 10823
       }
      },
      "text/html": [
       "<div><style>\n",
       ".dataframe > thead > tr,\n",
       ".dataframe > tbody > tr {\n",
       "  text-align: right;\n",
       "  white-space: pre-wrap;\n",
       "}\n",
       "</style>\n",
       "<small>shape: (10_823, 4)</small><table border=\"1\" class=\"dataframe\"><thead><tr><th>from_bus</th><th>to_bus</th><th>line_rating</th><th>reactance</th></tr><tr><td>i64</td><td>i64</td><td>f64</td><td>f64</td></tr></thead><tbody><tr><td>1</td><td>2410</td><td>1.75</td><td>0.000219</td></tr><tr><td>20</td><td>2410</td><td>4.37</td><td>0.007485</td></tr><tr><td>2410</td><td>2411</td><td>1.85</td><td>0.016138</td></tr><tr><td>1618</td><td>2411</td><td>1.42</td><td>0.000469</td></tr><tr><td>1617</td><td>2411</td><td>2.19</td><td>0.004104</td></tr><tr><td>&hellip;</td><td>&hellip;</td><td>&hellip;</td><td>&hellip;</td></tr><tr><td>8724</td><td>8726</td><td>3.82</td><td>0.028531</td></tr><tr><td>7686</td><td>7687</td><td>0.469016</td><td>0.464432</td></tr><tr><td>7876</td><td>7877</td><td>0.2</td><td>0.544565</td></tr><tr><td>8692</td><td>8693</td><td>0.836464</td><td>0.130255</td></tr><tr><td>8808</td><td>8810</td><td>1.935591</td><td>0.056299</td></tr></tbody></table></div>"
      ],
      "text/plain": [
       "shape: (10_823, 4)\n",
       "┌──────────┬────────┬─────────────┬───────────┐\n",
       "│ from_bus ┆ to_bus ┆ line_rating ┆ reactance │\n",
       "│ ---      ┆ ---    ┆ ---         ┆ ---       │\n",
       "│ i64      ┆ i64    ┆ f64         ┆ f64       │\n",
       "╞══════════╪════════╪═════════════╪═══════════╡\n",
       "│ 1        ┆ 2410   ┆ 1.75        ┆ 0.000219  │\n",
       "│ 20       ┆ 2410   ┆ 4.37        ┆ 0.007485  │\n",
       "│ 2410     ┆ 2411   ┆ 1.85        ┆ 0.016138  │\n",
       "│ 1618     ┆ 2411   ┆ 1.42        ┆ 0.000469  │\n",
       "│ 1617     ┆ 2411   ┆ 2.19        ┆ 0.004104  │\n",
       "│ …        ┆ …      ┆ …           ┆ …         │\n",
       "│ 8724     ┆ 8726   ┆ 3.82        ┆ 0.028531  │\n",
       "│ 7686     ┆ 7687   ┆ 0.469016    ┆ 0.464432  │\n",
       "│ 7876     ┆ 7877   ┆ 0.2         ┆ 0.544565  │\n",
       "│ 8692     ┆ 8693   ┆ 0.836464    ┆ 0.130255  │\n",
       "│ 8808     ┆ 8810   ┆ 1.935591    ┆ 0.056299  │\n",
       "└──────────┴────────┴─────────────┴───────────┘"
      ]
     },
     "execution_count": 42,
     "metadata": {},
     "output_type": "execute_result"
    }
   ],
   "source": [
    "df4 = df3.with_columns(\n",
    "    pl.when(pl.col(\"from_bus\") < pl.col(\"to_bus\"))\n",
    "    .then(pl.col(\"from_bus\"))\n",
    "    .otherwise(pl.col(\"to_bus\"))\n",
    "    .alias(\"from_bus\"),\n",
    "    pl.when(pl.col(\"from_bus\") < pl.col(\"to_bus\"))\n",
    "    .then(pl.col(\"to_bus\"))\n",
    "    .otherwise(pl.col(\"from_bus\"))\n",
    "    .alias(\"to_bus\"),\n",
    ")\n",
    "df4"
   ]
  },
  {
   "cell_type": "code",
   "execution_count": 43,
   "id": "333c4a0c",
   "metadata": {},
   "outputs": [],
   "source": [
    "df4.write_parquet(snakemake.output[0])"
   ]
  }
 ],
 "metadata": {
  "kernelspec": {
   "display_name": ".venv",
   "language": "python",
   "name": "python3"
  },
  "language_info": {
   "codemirror_mode": {
    "name": "ipython",
    "version": 3
   },
   "file_extension": ".py",
   "mimetype": "text/x-python",
   "name": "python",
   "nbconvert_exporter": "python",
   "pygments_lexer": "ipython3",
   "version": "3.13.5"
  }
 },
 "nbformat": 4,
 "nbformat_minor": 5
}
